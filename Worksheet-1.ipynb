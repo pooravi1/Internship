{
 "cells": [
  {
   "cell_type": "markdown",
   "id": "a0067838",
   "metadata": {},
   "source": [
    "Factorial Program"
   ]
  },
  {
   "cell_type": "code",
   "execution_count": 12,
   "id": "8c3eabbc",
   "metadata": {},
   "outputs": [
    {
     "name": "stdout",
     "output_type": "stream",
     "text": [
      "Enter the value-1\n",
      "Factorial of -1 is 0\n"
     ]
    }
   ],
   "source": [
    "def factorial(n):\n",
    "    if n < 0:\n",
    "        return 0\n",
    "    elif n == 0 or n == 1:\n",
    "        return 1\n",
    "    else:\n",
    "        fact = 1\n",
    "        while(n > 1):\n",
    "            fact = fact * n\n",
    "            n= n - 1\n",
    "        return fact\n",
    " \n",
    "# Driver Code\n",
    "x=int(input(\"Enter the value\"))\n",
    "print(\"Factorial of\",x,\"is\",factorial(x))"
   ]
  },
  {
   "cell_type": "markdown",
   "id": "f1e8ae83",
   "metadata": {},
   "source": [
    "Prime & Composite Number Program"
   ]
  },
  {
   "cell_type": "code",
   "execution_count": 28,
   "id": "3b74ffa0",
   "metadata": {},
   "outputs": [
    {
     "name": "stdout",
     "output_type": "stream",
     "text": [
      "Enter any number:5\n",
      "5 number is a prime\n"
     ]
    }
   ],
   "source": [
    "def prime(n):\n",
    "    if(n ==0 or n == 1):\n",
    "        printf(n,\"Number is neither prime nor composite\")\n",
    "    elif n>1 :\n",
    "        for i in range(2,n+1):\n",
    "            temp=i\n",
    "            if(n%i == 0):\n",
    "                break                \n",
    "        if temp==n:\n",
    "            print(n,\"number is a prime\")\n",
    "        else:\n",
    "            print(n,\"number is composite\")\n",
    "            \n",
    "    else :\n",
    "        print(\"Please enter positive number only \")\n",
    "    \n",
    "n= int(input(\"Enter any number:\"))\n",
    "prime(n)"
   ]
  },
  {
   "cell_type": "markdown",
   "id": "d3094d0f",
   "metadata": {},
   "source": [
    "Palindrome Program"
   ]
  },
  {
   "cell_type": "code",
   "execution_count": 35,
   "id": "68e37dde",
   "metadata": {},
   "outputs": [
    {
     "name": "stdout",
     "output_type": "stream",
     "text": [
      "Enter any wordmalayalam\n",
      "Yes\n"
     ]
    }
   ],
   "source": [
    "def palindrome(s):\n",
    "    return s == s[::-1]\n",
    "\n",
    "s = input(\"Enter any word\")\n",
    "ans = palindrome(s)\n",
    "if ans:\n",
    "    print(\"Yes\")\n",
    "else:\n",
    "    print(\"No\")"
   ]
  },
  {
   "cell_type": "markdown",
   "id": "b49fdfae",
   "metadata": {},
   "source": [
    "Right-Angles Triangle Program"
   ]
  },
  {
   "cell_type": "code",
   "execution_count": 54,
   "id": "a55c56ef",
   "metadata": {},
   "outputs": [
    {
     "name": "stdout",
     "output_type": "stream",
     "text": [
      "Enter one side2\n",
      "Enter other side5\n",
      "Hypotenuse is  5.385164807134504\n"
     ]
    }
   ],
   "source": [
    "import math\n",
    "def Pythagoras(a,b):\n",
    "    c=float(math.sqrt((a**2)+(b**2)))\n",
    "    return c\n",
    "    \n",
    "a=float(input(\"Enter one side\"))\n",
    "b=float(input(\"Enter other side\"))\n",
    "print(\"Hypotenuse is \", Pythagoras(a,b))"
   ]
  },
  {
   "cell_type": "markdown",
   "id": "91de7e9b",
   "metadata": {},
   "source": [
    "Frequency of each character in string"
   ]
  },
  {
   "cell_type": "code",
   "execution_count": 60,
   "id": "552fddab",
   "metadata": {},
   "outputs": [
    {
     "name": "stdout",
     "output_type": "stream",
     "text": [
      "Enter the string: poonam\n",
      "p,1\n",
      "o,2\n",
      "n,1\n",
      "a,1\n",
      "m,1\n"
     ]
    }
   ],
   "source": [
    "string=input(\"Enter the string: \")\n",
    "str1=list(string)\n",
    "strlist=[]\n",
    "for j in str1:\n",
    "    if j not in strlist:\n",
    "       strlist.append(j)\n",
    "       count=0\n",
    "       for i in range(len(str1)):\n",
    "         if j==str1[i]:\n",
    "           count+=1\n",
    "       print(\"{},{}\".format(j,count))"
   ]
  },
  {
   "cell_type": "code",
   "execution_count": null,
   "id": "5687d319",
   "metadata": {},
   "outputs": [],
   "source": []
  },
  {
   "cell_type": "code",
   "execution_count": null,
   "id": "3e5ce8b8",
   "metadata": {},
   "outputs": [],
   "source": []
  }
 ],
 "metadata": {
  "kernelspec": {
   "display_name": "Python 3",
   "language": "python",
   "name": "python3"
  },
  "language_info": {
   "codemirror_mode": {
    "name": "ipython",
    "version": 3
   },
   "file_extension": ".py",
   "mimetype": "text/x-python",
   "name": "python",
   "nbconvert_exporter": "python",
   "pygments_lexer": "ipython3",
   "version": "3.8.8"
  }
 },
 "nbformat": 4,
 "nbformat_minor": 5
}
