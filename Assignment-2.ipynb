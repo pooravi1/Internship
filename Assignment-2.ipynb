{
 "cells": [
  {
   "cell_type": "markdown",
   "id": "3b451148",
   "metadata": {},
   "source": [
    "1. Python program to scrape data for “Data Analyst” Job position in “Bangalore” location"
   ]
  },
  {
   "cell_type": "code",
   "execution_count": 1,
   "id": "c805a59a",
   "metadata": {},
   "outputs": [
    {
     "name": "stdout",
     "output_type": "stream",
     "text": [
      "Requirement already satisfied: selenium in c:\\programdata\\anaconda3\\lib\\site-packages (4.1.2)\n",
      "Requirement already satisfied: trio-websocket~=0.9 in c:\\programdata\\anaconda3\\lib\\site-packages (from selenium) (0.9.2)\n",
      "Requirement already satisfied: trio~=0.17 in c:\\programdata\\anaconda3\\lib\\site-packages (from selenium) (0.20.0)\n",
      "Requirement already satisfied: urllib3[secure,socks]~=1.26 in c:\\programdata\\anaconda3\\lib\\site-packages (from selenium) (1.26.4)\n",
      "Requirement already satisfied: outcome in c:\\programdata\\anaconda3\\lib\\site-packages (from trio~=0.17->selenium) (1.1.0)\n",
      "Requirement already satisfied: sniffio in c:\\programdata\\anaconda3\\lib\\site-packages (from trio~=0.17->selenium) (1.2.0)\n",
      "Requirement already satisfied: sortedcontainers in c:\\programdata\\anaconda3\\lib\\site-packages (from trio~=0.17->selenium) (2.3.0)\n",
      "Requirement already satisfied: cffi>=1.14 in c:\\programdata\\anaconda3\\lib\\site-packages (from trio~=0.17->selenium) (1.14.5)\n",
      "Requirement already satisfied: idna in c:\\programdata\\anaconda3\\lib\\site-packages (from trio~=0.17->selenium) (2.10)\n",
      "Requirement already satisfied: async-generator>=1.9 in c:\\programdata\\anaconda3\\lib\\site-packages (from trio~=0.17->selenium) (1.10)\n",
      "Requirement already satisfied: attrs>=19.2.0 in c:\\programdata\\anaconda3\\lib\\site-packages (from trio~=0.17->selenium) (20.3.0)\n",
      "Requirement already satisfied: pycparser in c:\\programdata\\anaconda3\\lib\\site-packages (from cffi>=1.14->trio~=0.17->selenium) (2.20)\n",
      "Requirement already satisfied: wsproto>=0.14 in c:\\programdata\\anaconda3\\lib\\site-packages (from trio-websocket~=0.9->selenium) (1.1.0)\n",
      "Requirement already satisfied: cryptography>=1.3.4 in c:\\programdata\\anaconda3\\lib\\site-packages (from urllib3[secure,socks]~=1.26->selenium) (3.4.7)\n",
      "Requirement already satisfied: certifi in c:\\programdata\\anaconda3\\lib\\site-packages (from urllib3[secure,socks]~=1.26->selenium) (2020.12.5)\n",
      "Requirement already satisfied: pyOpenSSL>=0.14 in c:\\programdata\\anaconda3\\lib\\site-packages (from urllib3[secure,socks]~=1.26->selenium) (20.0.1)\n",
      "Requirement already satisfied: PySocks!=1.5.7,<2.0,>=1.5.6 in c:\\programdata\\anaconda3\\lib\\site-packages (from urllib3[secure,socks]~=1.26->selenium) (1.7.1)\n",
      "Requirement already satisfied: six>=1.5.2 in c:\\programdata\\anaconda3\\lib\\site-packages (from pyOpenSSL>=0.14->urllib3[secure,socks]~=1.26->selenium) (1.15.0)\n",
      "Requirement already satisfied: h11<1,>=0.9.0 in c:\\programdata\\anaconda3\\lib\\site-packages (from wsproto>=0.14->trio-websocket~=0.9->selenium) (0.13.0)\n"
     ]
    }
   ],
   "source": [
    "!pip install selenium"
   ]
  },
  {
   "cell_type": "code",
   "execution_count": 2,
   "id": "d25973b6",
   "metadata": {},
   "outputs": [],
   "source": [
    "import selenium\n",
    "from selenium import webdriver\n",
    "import pandas as pd\n",
    "import warnings\n",
    "warnings.filterwarnings(\"ignore\")"
   ]
  },
  {
   "cell_type": "code",
   "execution_count": 17,
   "id": "7c939f5b",
   "metadata": {},
   "outputs": [],
   "source": [
    "driver=webdriver.Chrome('chromedriver.exe')"
   ]
  },
  {
   "cell_type": "code",
   "execution_count": 18,
   "id": "bf69c9e0",
   "metadata": {},
   "outputs": [],
   "source": [
    "url='https://www.naukri.com/'\n",
    "driver.get(url)"
   ]
  },
  {
   "cell_type": "code",
   "execution_count": 5,
   "id": "da6fc9bd",
   "metadata": {},
   "outputs": [
    {
     "data": {
      "text/plain": [
       "<selenium.webdriver.remote.webelement.WebElement (session=\"e8f8a44ccc3d689d593a805de88d258b\", element=\"1d230d96-89f2-4dad-895b-1f4237c719d8\")>"
      ]
     },
     "execution_count": 5,
     "metadata": {},
     "output_type": "execute_result"
    }
   ],
   "source": [
    "search_job=driver.find_element_by_class_name(\"suggestor-input\")\n",
    "search_job"
   ]
  },
  {
   "cell_type": "code",
   "execution_count": 6,
   "id": "aa5136be",
   "metadata": {},
   "outputs": [],
   "source": [
    "search_job.send_keys(\"Data Analyst\")"
   ]
  },
  {
   "cell_type": "code",
   "execution_count": 7,
   "id": "5fe5a5f6",
   "metadata": {},
   "outputs": [
    {
     "data": {
      "text/plain": [
       "<selenium.webdriver.remote.webelement.WebElement (session=\"e8f8a44ccc3d689d593a805de88d258b\", element=\"7e7af775-d2d6-4556-9b17-0a16d8e8ee2a\")>"
      ]
     },
     "execution_count": 7,
     "metadata": {},
     "output_type": "execute_result"
    }
   ],
   "source": [
    "search_locn=driver.find_element_by_xpath('/html/body/div/div[2]/div[3]/div/div/div[3]/div/div/div/input')\n",
    "search_locn"
   ]
  },
  {
   "cell_type": "code",
   "execution_count": 8,
   "id": "7030161c",
   "metadata": {},
   "outputs": [],
   "source": [
    "search_locn.send_keys(\"Bangalore\")"
   ]
  },
  {
   "cell_type": "code",
   "execution_count": 9,
   "id": "599d114c",
   "metadata": {},
   "outputs": [
    {
     "data": {
      "text/plain": [
       "<selenium.webdriver.remote.webelement.WebElement (session=\"e8f8a44ccc3d689d593a805de88d258b\", element=\"4980d02a-9cc2-4d05-b352-364d491900c0\")>"
      ]
     },
     "execution_count": 9,
     "metadata": {},
     "output_type": "execute_result"
    }
   ],
   "source": [
    "search_btn=driver.find_element_by_xpath('//*[@id=\"root\"]/div[2]/div[3]/div/div/div[6]')\n",
    "search_btn"
   ]
  },
  {
   "cell_type": "code",
   "execution_count": 10,
   "id": "6e6c8f66",
   "metadata": {},
   "outputs": [],
   "source": [
    "search_btn.click()"
   ]
  },
  {
   "cell_type": "code",
   "execution_count": 11,
   "id": "b2178da4",
   "metadata": {},
   "outputs": [
    {
     "data": {
      "text/plain": [
       "[<selenium.webdriver.remote.webelement.WebElement (session=\"e8f8a44ccc3d689d593a805de88d258b\", element=\"16ec1e68-3fc0-4602-abaf-d9b74446c869\")>,\n",
       " <selenium.webdriver.remote.webelement.WebElement (session=\"e8f8a44ccc3d689d593a805de88d258b\", element=\"1fb3ebca-982d-440f-b45d-e4932cb9e3e4\")>]"
      ]
     },
     "execution_count": 11,
     "metadata": {},
     "output_type": "execute_result"
    }
   ],
   "source": [
    "title_tags = driver.find_elements_by_xpath('//a[@class=\"title fw500 ellipsis\"]')\n",
    "len(title_tags)\n",
    "title_tags[0:2]"
   ]
  },
  {
   "cell_type": "code",
   "execution_count": 12,
   "id": "2fbf989a",
   "metadata": {},
   "outputs": [
    {
     "data": {
      "text/plain": [
       "['Senior Data Analyst',\n",
       " 'software developer & Testing / Business Analyst/Data Analyst/Python.',\n",
       " 'Staff Business Data Analyst - FDP',\n",
       " 'Data Analyst - IIM/ISB/MDI/FMS/SP Jain',\n",
       " 'Senior Data Analyst',\n",
       " 'Senior Data Analyst',\n",
       " 'Senior Data Analyst',\n",
       " 'Data Coordinator | Data Analyst | MS Excel | Typing | Bangalore',\n",
       " 'Hiring For Data Analyst!!!',\n",
       " 'Data Analyst']"
      ]
     },
     "execution_count": 12,
     "metadata": {},
     "output_type": "execute_result"
    }
   ],
   "source": [
    "job_titles = []\n",
    "for i in title_tags:\n",
    "    job_titles.append(i.text)\n",
    "len(job_titles)\n",
    "job_titles[0:10]"
   ]
  },
  {
   "cell_type": "code",
   "execution_count": 13,
   "id": "042b6fa1",
   "metadata": {},
   "outputs": [
    {
     "data": {
      "text/plain": [
       "[<selenium.webdriver.remote.webelement.WebElement (session=\"e8f8a44ccc3d689d593a805de88d258b\", element=\"7f7554cf-bdf7-4646-9e00-42552afa85b4\")>,\n",
       " <selenium.webdriver.remote.webelement.WebElement (session=\"e8f8a44ccc3d689d593a805de88d258b\", element=\"004c7340-ac0f-4466-b74c-741fa5c3138e\")>]"
      ]
     },
     "execution_count": 13,
     "metadata": {},
     "output_type": "execute_result"
    }
   ],
   "source": [
    "locn_tags=driver.find_elements_by_xpath('//li[@class=\"fleft grey-text br2 placeHolderLi location\"]')\n",
    "locn_tags[0:2]"
   ]
  },
  {
   "cell_type": "code",
   "execution_count": 14,
   "id": "82bc1d28",
   "metadata": {},
   "outputs": [
    {
     "data": {
      "text/plain": [
       "['Bangalore/Bengaluru',\n",
       " 'Pune, Bangalore/Bengaluru(Shivaji Nagar), Mumbai (All Areas)\\n(WFH during Covid)',\n",
       " 'Bangalore/Bengaluru',\n",
       " 'Bangalore/Bengaluru',\n",
       " 'Bangalore/Bengaluru',\n",
       " 'Bangalore/Bengaluru',\n",
       " 'Bangalore/Bengaluru',\n",
       " 'Bangalore/Bengaluru(Sadashiva Nagar)',\n",
       " 'Chennai, Bangalore/Bengaluru\\n(WFH during Covid)',\n",
       " 'Bangalore/Bengaluru, Mumbai (All Areas)']"
      ]
     },
     "execution_count": 14,
     "metadata": {},
     "output_type": "execute_result"
    }
   ],
   "source": [
    "location = []\n",
    "for i in locn_tags:\n",
    "    location.append(i.text)\n",
    "location[0:10]"
   ]
  },
  {
   "cell_type": "code",
   "execution_count": 15,
   "id": "874e2b93",
   "metadata": {},
   "outputs": [
    {
     "data": {
      "text/plain": [
       "[<selenium.webdriver.remote.webelement.WebElement (session=\"e8f8a44ccc3d689d593a805de88d258b\", element=\"d63313f5-769c-4183-9d96-8e196b305f6b\")>,\n",
       " <selenium.webdriver.remote.webelement.WebElement (session=\"e8f8a44ccc3d689d593a805de88d258b\", element=\"ca676b04-8534-4cae-b4cc-ececd7916646\")>]"
      ]
     },
     "execution_count": 15,
     "metadata": {},
     "output_type": "execute_result"
    }
   ],
   "source": [
    "company_tags=driver.find_elements_by_xpath('//a[@class=\"subTitle ellipsis fleft\"]')\n",
    "company_tags[0:2]"
   ]
  },
  {
   "cell_type": "code",
   "execution_count": 16,
   "id": "04cbc9e8",
   "metadata": {},
   "outputs": [
    {
     "data": {
      "text/plain": [
       "['Capco',\n",
       " 'SECRET TECHNOLOGIES INDIA VMS GROUP',\n",
       " 'Intuit Inc.',\n",
       " 'K12 Techno Services Pvt Ltd',\n",
       " 'Mobile Premier League',\n",
       " 'Flipkart',\n",
       " 'Flipkart',\n",
       " 'Inspiration Manpower Consultancy Pvt. Ltd.',\n",
       " 'Ignitho',\n",
       " 'SunEdison']"
      ]
     },
     "execution_count": 16,
     "metadata": {},
     "output_type": "execute_result"
    }
   ],
   "source": [
    "Company_names = []\n",
    "for i in company_tags:\n",
    "    Company_names.append(i.text)\n",
    "Company_names[0:10]"
   ]
  },
  {
   "cell_type": "code",
   "execution_count": 17,
   "id": "c7f06072",
   "metadata": {},
   "outputs": [
    {
     "data": {
      "text/plain": [
       "[<selenium.webdriver.remote.webelement.WebElement (session=\"e8f8a44ccc3d689d593a805de88d258b\", element=\"d63313f5-769c-4183-9d96-8e196b305f6b\")>,\n",
       " <selenium.webdriver.remote.webelement.WebElement (session=\"e8f8a44ccc3d689d593a805de88d258b\", element=\"ca676b04-8534-4cae-b4cc-ececd7916646\")>]"
      ]
     },
     "execution_count": 17,
     "metadata": {},
     "output_type": "execute_result"
    }
   ],
   "source": [
    "exp_tags=driver.find_elements_by_xpath('//span[@class=\"ellipsis fleft fs12 lh16 \"]')\n",
    "company_tags[0:2]"
   ]
  },
  {
   "cell_type": "code",
   "execution_count": 18,
   "id": "b1f45472",
   "metadata": {},
   "outputs": [
    {
     "data": {
      "text/plain": [
       "['4-8 Yrs',\n",
       " 'Not disclosed',\n",
       " 'Bangalore/Bengaluru',\n",
       " '2,00,000 - 6,50,000 PA.',\n",
       " '5-7 Yrs',\n",
       " 'Not disclosed',\n",
       " 'Bangalore/Bengaluru',\n",
       " '4-9 Yrs',\n",
       " 'Not disclosed',\n",
       " 'Bangalore/Bengaluru']"
      ]
     },
     "execution_count": 18,
     "metadata": {},
     "output_type": "execute_result"
    }
   ],
   "source": [
    "Experience = []\n",
    "for i in exp_tags:\n",
    "    Experience.append(i.text)\n",
    "Experience[0:10]"
   ]
  },
  {
   "cell_type": "code",
   "execution_count": 19,
   "id": "b8b56873",
   "metadata": {},
   "outputs": [
    {
     "data": {
      "text/html": [
       "<div>\n",
       "<style scoped>\n",
       "    .dataframe tbody tr th:only-of-type {\n",
       "        vertical-align: middle;\n",
       "    }\n",
       "\n",
       "    .dataframe tbody tr th {\n",
       "        vertical-align: top;\n",
       "    }\n",
       "\n",
       "    .dataframe thead th {\n",
       "        text-align: right;\n",
       "    }\n",
       "</style>\n",
       "<table border=\"1\" class=\"dataframe\">\n",
       "  <thead>\n",
       "    <tr style=\"text-align: right;\">\n",
       "      <th></th>\n",
       "      <th>Job Title</th>\n",
       "      <th>Location</th>\n",
       "      <th>Company Name</th>\n",
       "      <th>Experience</th>\n",
       "    </tr>\n",
       "  </thead>\n",
       "  <tbody>\n",
       "    <tr>\n",
       "      <th>0</th>\n",
       "      <td>Senior Data Analyst</td>\n",
       "      <td>Bangalore/Bengaluru</td>\n",
       "      <td>Capco</td>\n",
       "      <td>4-8 Yrs</td>\n",
       "    </tr>\n",
       "    <tr>\n",
       "      <th>1</th>\n",
       "      <td>software developer &amp; Testing / Business Analys...</td>\n",
       "      <td>Pune, Bangalore/Bengaluru(Shivaji Nagar), Mumb...</td>\n",
       "      <td>SECRET TECHNOLOGIES INDIA VMS GROUP</td>\n",
       "      <td>Not disclosed</td>\n",
       "    </tr>\n",
       "    <tr>\n",
       "      <th>2</th>\n",
       "      <td>Staff Business Data Analyst - FDP</td>\n",
       "      <td>Bangalore/Bengaluru</td>\n",
       "      <td>Intuit Inc.</td>\n",
       "      <td>Bangalore/Bengaluru</td>\n",
       "    </tr>\n",
       "    <tr>\n",
       "      <th>3</th>\n",
       "      <td>Data Analyst - IIM/ISB/MDI/FMS/SP Jain</td>\n",
       "      <td>Bangalore/Bengaluru</td>\n",
       "      <td>K12 Techno Services Pvt Ltd</td>\n",
       "      <td>2,00,000 - 6,50,000 PA.</td>\n",
       "    </tr>\n",
       "    <tr>\n",
       "      <th>4</th>\n",
       "      <td>Senior Data Analyst</td>\n",
       "      <td>Bangalore/Bengaluru</td>\n",
       "      <td>Mobile Premier League</td>\n",
       "      <td>5-7 Yrs</td>\n",
       "    </tr>\n",
       "    <tr>\n",
       "      <th>5</th>\n",
       "      <td>Senior Data Analyst</td>\n",
       "      <td>Bangalore/Bengaluru</td>\n",
       "      <td>Flipkart</td>\n",
       "      <td>Not disclosed</td>\n",
       "    </tr>\n",
       "    <tr>\n",
       "      <th>6</th>\n",
       "      <td>Senior Data Analyst</td>\n",
       "      <td>Bangalore/Bengaluru</td>\n",
       "      <td>Flipkart</td>\n",
       "      <td>Bangalore/Bengaluru</td>\n",
       "    </tr>\n",
       "    <tr>\n",
       "      <th>7</th>\n",
       "      <td>Data Coordinator | Data Analyst | MS Excel | T...</td>\n",
       "      <td>Bangalore/Bengaluru(Sadashiva Nagar)</td>\n",
       "      <td>Inspiration Manpower Consultancy Pvt. Ltd.</td>\n",
       "      <td>4-9 Yrs</td>\n",
       "    </tr>\n",
       "    <tr>\n",
       "      <th>8</th>\n",
       "      <td>Hiring For Data Analyst!!!</td>\n",
       "      <td>Chennai, Bangalore/Bengaluru\\n(WFH during Covid)</td>\n",
       "      <td>Ignitho</td>\n",
       "      <td>Not disclosed</td>\n",
       "    </tr>\n",
       "    <tr>\n",
       "      <th>9</th>\n",
       "      <td>Data Analyst</td>\n",
       "      <td>Bangalore/Bengaluru, Mumbai (All Areas)</td>\n",
       "      <td>SunEdison</td>\n",
       "      <td>Bangalore/Bengaluru</td>\n",
       "    </tr>\n",
       "  </tbody>\n",
       "</table>\n",
       "</div>"
      ],
      "text/plain": [
       "                                           Job Title  \\\n",
       "0                                Senior Data Analyst   \n",
       "1  software developer & Testing / Business Analys...   \n",
       "2                  Staff Business Data Analyst - FDP   \n",
       "3             Data Analyst - IIM/ISB/MDI/FMS/SP Jain   \n",
       "4                                Senior Data Analyst   \n",
       "5                                Senior Data Analyst   \n",
       "6                                Senior Data Analyst   \n",
       "7  Data Coordinator | Data Analyst | MS Excel | T...   \n",
       "8                         Hiring For Data Analyst!!!   \n",
       "9                                       Data Analyst   \n",
       "\n",
       "                                            Location  \\\n",
       "0                                Bangalore/Bengaluru   \n",
       "1  Pune, Bangalore/Bengaluru(Shivaji Nagar), Mumb...   \n",
       "2                                Bangalore/Bengaluru   \n",
       "3                                Bangalore/Bengaluru   \n",
       "4                                Bangalore/Bengaluru   \n",
       "5                                Bangalore/Bengaluru   \n",
       "6                                Bangalore/Bengaluru   \n",
       "7               Bangalore/Bengaluru(Sadashiva Nagar)   \n",
       "8   Chennai, Bangalore/Bengaluru\\n(WFH during Covid)   \n",
       "9            Bangalore/Bengaluru, Mumbai (All Areas)   \n",
       "\n",
       "                                 Company Name               Experience  \n",
       "0                                       Capco                  4-8 Yrs  \n",
       "1         SECRET TECHNOLOGIES INDIA VMS GROUP            Not disclosed  \n",
       "2                                 Intuit Inc.      Bangalore/Bengaluru  \n",
       "3                 K12 Techno Services Pvt Ltd  2,00,000 - 6,50,000 PA.  \n",
       "4                       Mobile Premier League                  5-7 Yrs  \n",
       "5                                    Flipkart            Not disclosed  \n",
       "6                                    Flipkart      Bangalore/Bengaluru  \n",
       "7  Inspiration Manpower Consultancy Pvt. Ltd.                  4-9 Yrs  \n",
       "8                                     Ignitho            Not disclosed  \n",
       "9                                   SunEdison      Bangalore/Bengaluru  "
      ]
     },
     "execution_count": 19,
     "metadata": {},
     "output_type": "execute_result"
    }
   ],
   "source": [
    "jobs=pd.DataFrame()\n",
    "jobs['Job Title']=job_titles[:10]\n",
    "jobs['Location']=location[:10]\n",
    "jobs['Company Name']=Company_names[:10]\n",
    "jobs['Experience']=Experience[:10]\n",
    "jobs"
   ]
  },
  {
   "cell_type": "markdown",
   "id": "1b16e469",
   "metadata": {},
   "source": [
    "2. Python program to scrape data for “Data Scientist” Job position in “Bangalore” location."
   ]
  },
  {
   "cell_type": "code",
   "execution_count": 20,
   "id": "95fa2d0f",
   "metadata": {},
   "outputs": [],
   "source": [
    "driver=webdriver.Chrome('chromedriver.exe')"
   ]
  },
  {
   "cell_type": "code",
   "execution_count": 21,
   "id": "5929e9c9",
   "metadata": {},
   "outputs": [],
   "source": [
    "url='https://www.naukri.com/'\n",
    "driver.get(url)"
   ]
  },
  {
   "cell_type": "code",
   "execution_count": 22,
   "id": "a6cf6f38",
   "metadata": {},
   "outputs": [
    {
     "data": {
      "text/plain": [
       "<selenium.webdriver.remote.webelement.WebElement (session=\"43103e974469f5c81406a9bc0e0e3a02\", element=\"3145aab9-02db-43e3-afca-5920c07b48fd\")>"
      ]
     },
     "execution_count": 22,
     "metadata": {},
     "output_type": "execute_result"
    }
   ],
   "source": [
    "search_job=driver.find_element_by_class_name(\"suggestor-input\")\n",
    "search_job"
   ]
  },
  {
   "cell_type": "code",
   "execution_count": 23,
   "id": "6adb69d2",
   "metadata": {},
   "outputs": [],
   "source": [
    "search_job.send_keys(\"Data Scientist\")"
   ]
  },
  {
   "cell_type": "code",
   "execution_count": 24,
   "id": "e76717be",
   "metadata": {},
   "outputs": [
    {
     "data": {
      "text/plain": [
       "<selenium.webdriver.remote.webelement.WebElement (session=\"43103e974469f5c81406a9bc0e0e3a02\", element=\"2ade97b9-feeb-4c28-94e5-e8f2534b2cc0\")>"
      ]
     },
     "execution_count": 24,
     "metadata": {},
     "output_type": "execute_result"
    }
   ],
   "source": [
    "search_locn=driver.find_element_by_xpath('/html/body/div/div[2]/div[3]/div/div/div[3]/div/div/div/input')\n",
    "search_locn"
   ]
  },
  {
   "cell_type": "code",
   "execution_count": 25,
   "id": "eafd81ee",
   "metadata": {},
   "outputs": [],
   "source": [
    "search_locn.send_keys(\"Bangalore\")"
   ]
  },
  {
   "cell_type": "code",
   "execution_count": 26,
   "id": "0ba7f4a3",
   "metadata": {},
   "outputs": [
    {
     "data": {
      "text/plain": [
       "<selenium.webdriver.remote.webelement.WebElement (session=\"43103e974469f5c81406a9bc0e0e3a02\", element=\"d4eb7f40-269c-4105-938a-0c30e51d4e6e\")>"
      ]
     },
     "execution_count": 26,
     "metadata": {},
     "output_type": "execute_result"
    }
   ],
   "source": [
    "search_btn=driver.find_element_by_xpath('//*[@id=\"root\"]/div[2]/div[3]/div/div/div[6]')\n",
    "search_btn"
   ]
  },
  {
   "cell_type": "code",
   "execution_count": 27,
   "id": "91e937b1",
   "metadata": {},
   "outputs": [],
   "source": [
    "search_btn.click()"
   ]
  },
  {
   "cell_type": "code",
   "execution_count": 28,
   "id": "53cbb6b8",
   "metadata": {},
   "outputs": [
    {
     "data": {
      "text/plain": [
       "[<selenium.webdriver.remote.webelement.WebElement (session=\"43103e974469f5c81406a9bc0e0e3a02\", element=\"9c327147-7d63-4061-87b4-d3787f212b50\")>,\n",
       " <selenium.webdriver.remote.webelement.WebElement (session=\"43103e974469f5c81406a9bc0e0e3a02\", element=\"0012249b-401f-4d56-a488-08cdd194d6c4\")>]"
      ]
     },
     "execution_count": 28,
     "metadata": {},
     "output_type": "execute_result"
    }
   ],
   "source": [
    "title_tags = driver.find_elements_by_xpath('//a[@class=\"title fw500 ellipsis\"]')\n",
    "len(title_tags)\n",
    "title_tags[0:2]"
   ]
  },
  {
   "cell_type": "code",
   "execution_count": 29,
   "id": "3977b4de",
   "metadata": {},
   "outputs": [
    {
     "data": {
      "text/plain": [
       "['Data Scientist',\n",
       " 'Senior/ Lead Data Scientist',\n",
       " 'Data Scientist / Analyst',\n",
       " 'Forecasting Analyst/ Data Scientist (US Client)',\n",
       " 'Consultant - Junior Data Scientist',\n",
       " 'Data Scientist',\n",
       " 'Excellent Opportunity For Freshers For AI/ML, Data Scientist, BI, QA',\n",
       " 'Junior Data Scientist',\n",
       " 'Data Scientist',\n",
       " 'Data Scientist']"
      ]
     },
     "execution_count": 29,
     "metadata": {},
     "output_type": "execute_result"
    }
   ],
   "source": [
    "job_titles = []\n",
    "for i in title_tags:\n",
    "    job_titles.append(i.text)\n",
    "len(job_titles)\n",
    "job_titles[0:10]"
   ]
  },
  {
   "cell_type": "code",
   "execution_count": 30,
   "id": "4d6e6a47",
   "metadata": {},
   "outputs": [
    {
     "data": {
      "text/plain": [
       "[<selenium.webdriver.remote.webelement.WebElement (session=\"43103e974469f5c81406a9bc0e0e3a02\", element=\"1e02e889-30dc-4996-acb5-95863e462451\")>,\n",
       " <selenium.webdriver.remote.webelement.WebElement (session=\"43103e974469f5c81406a9bc0e0e3a02\", element=\"736b6bab-448d-4f50-81fe-0720a89a0a04\")>]"
      ]
     },
     "execution_count": 30,
     "metadata": {},
     "output_type": "execute_result"
    }
   ],
   "source": [
    "locn_tags=driver.find_elements_by_xpath('//li[@class=\"fleft grey-text br2 placeHolderLi location\"]')\n",
    "locn_tags[0:2]"
   ]
  },
  {
   "cell_type": "code",
   "execution_count": 31,
   "id": "f89dabaf",
   "metadata": {},
   "outputs": [
    {
     "data": {
      "text/plain": [
       "['Pune, Gurgaon/Gurugram, Chennai, Bangalore/Bengaluru, Delhi / NCR, Mumbai (All Areas)',\n",
       " 'Bangalore/Bengaluru',\n",
       " 'Bangalore/Bengaluru',\n",
       " 'Gurgaon/Gurugram, Bangalore/Bengaluru\\n(WFH during Covid)',\n",
       " 'Navi Mumbai, New Delhi, Bangalore/Bengaluru',\n",
       " 'Bangalore/Bengaluru',\n",
       " 'Noida, Kolkata, Hyderabad/Secunderabad, Pune, Chennai, Bangalore/Bengaluru, Delhi / NCR, Mumbai (All Areas)\\n(WFH during Covid)',\n",
       " 'Bangalore/Bengaluru',\n",
       " 'Hyderabad/Secunderabad, Pune, Bangalore/Bengaluru',\n",
       " 'Bangalore/Bengaluru']"
      ]
     },
     "execution_count": 31,
     "metadata": {},
     "output_type": "execute_result"
    }
   ],
   "source": [
    "location = []\n",
    "for i in locn_tags:\n",
    "    location.append(i.text)\n",
    "location[0:10]"
   ]
  },
  {
   "cell_type": "code",
   "execution_count": 32,
   "id": "6b8833af",
   "metadata": {},
   "outputs": [
    {
     "data": {
      "text/plain": [
       "[<selenium.webdriver.remote.webelement.WebElement (session=\"43103e974469f5c81406a9bc0e0e3a02\", element=\"d49c5037-05e2-4fc7-94e7-b93652a9c7c8\")>,\n",
       " <selenium.webdriver.remote.webelement.WebElement (session=\"43103e974469f5c81406a9bc0e0e3a02\", element=\"11bb362a-f5cb-46e0-a384-99d74d816f8c\")>]"
      ]
     },
     "execution_count": 32,
     "metadata": {},
     "output_type": "execute_result"
    }
   ],
   "source": [
    "company_tags=driver.find_elements_by_xpath('//a[@class=\"subTitle ellipsis fleft\"]')\n",
    "company_tags[0:2]"
   ]
  },
  {
   "cell_type": "code",
   "execution_count": 33,
   "id": "c28f2f37",
   "metadata": {},
   "outputs": [
    {
     "data": {
      "text/plain": [
       "['HDFC Bank',\n",
       " 'AmoliTalents',\n",
       " 'open data fabric',\n",
       " 'Concentrix',\n",
       " 'Flexing It',\n",
       " 'Shell',\n",
       " 'NTT Data',\n",
       " 'Titan',\n",
       " 'Amazon',\n",
       " 'Hewlett-Packard (HP)']"
      ]
     },
     "execution_count": 33,
     "metadata": {},
     "output_type": "execute_result"
    }
   ],
   "source": [
    "Company_names = []\n",
    "for i in company_tags:\n",
    "    Company_names.append(i.text)\n",
    "Company_names[0:10]"
   ]
  },
  {
   "cell_type": "code",
   "execution_count": 34,
   "id": "c8586584",
   "metadata": {},
   "outputs": [
    {
     "data": {
      "text/html": [
       "<div>\n",
       "<style scoped>\n",
       "    .dataframe tbody tr th:only-of-type {\n",
       "        vertical-align: middle;\n",
       "    }\n",
       "\n",
       "    .dataframe tbody tr th {\n",
       "        vertical-align: top;\n",
       "    }\n",
       "\n",
       "    .dataframe thead th {\n",
       "        text-align: right;\n",
       "    }\n",
       "</style>\n",
       "<table border=\"1\" class=\"dataframe\">\n",
       "  <thead>\n",
       "    <tr style=\"text-align: right;\">\n",
       "      <th></th>\n",
       "      <th>Job Title</th>\n",
       "      <th>Location</th>\n",
       "      <th>Company Name</th>\n",
       "    </tr>\n",
       "  </thead>\n",
       "  <tbody>\n",
       "    <tr>\n",
       "      <th>0</th>\n",
       "      <td>Data Scientist</td>\n",
       "      <td>Pune, Gurgaon/Gurugram, Chennai, Bangalore/Ben...</td>\n",
       "      <td>HDFC Bank</td>\n",
       "    </tr>\n",
       "    <tr>\n",
       "      <th>1</th>\n",
       "      <td>Senior/ Lead Data Scientist</td>\n",
       "      <td>Bangalore/Bengaluru</td>\n",
       "      <td>AmoliTalents</td>\n",
       "    </tr>\n",
       "    <tr>\n",
       "      <th>2</th>\n",
       "      <td>Data Scientist / Analyst</td>\n",
       "      <td>Bangalore/Bengaluru</td>\n",
       "      <td>open data fabric</td>\n",
       "    </tr>\n",
       "    <tr>\n",
       "      <th>3</th>\n",
       "      <td>Forecasting Analyst/ Data Scientist (US Client)</td>\n",
       "      <td>Gurgaon/Gurugram, Bangalore/Bengaluru\\n(WFH du...</td>\n",
       "      <td>Concentrix</td>\n",
       "    </tr>\n",
       "    <tr>\n",
       "      <th>4</th>\n",
       "      <td>Consultant - Junior Data Scientist</td>\n",
       "      <td>Navi Mumbai, New Delhi, Bangalore/Bengaluru</td>\n",
       "      <td>Flexing It</td>\n",
       "    </tr>\n",
       "    <tr>\n",
       "      <th>5</th>\n",
       "      <td>Data Scientist</td>\n",
       "      <td>Bangalore/Bengaluru</td>\n",
       "      <td>Shell</td>\n",
       "    </tr>\n",
       "    <tr>\n",
       "      <th>6</th>\n",
       "      <td>Excellent Opportunity For Freshers For AI/ML, ...</td>\n",
       "      <td>Noida, Kolkata, Hyderabad/Secunderabad, Pune, ...</td>\n",
       "      <td>NTT Data</td>\n",
       "    </tr>\n",
       "    <tr>\n",
       "      <th>7</th>\n",
       "      <td>Junior Data Scientist</td>\n",
       "      <td>Bangalore/Bengaluru</td>\n",
       "      <td>Titan</td>\n",
       "    </tr>\n",
       "    <tr>\n",
       "      <th>8</th>\n",
       "      <td>Data Scientist</td>\n",
       "      <td>Hyderabad/Secunderabad, Pune, Bangalore/Bengaluru</td>\n",
       "      <td>Amazon</td>\n",
       "    </tr>\n",
       "    <tr>\n",
       "      <th>9</th>\n",
       "      <td>Data Scientist</td>\n",
       "      <td>Bangalore/Bengaluru</td>\n",
       "      <td>Hewlett-Packard (HP)</td>\n",
       "    </tr>\n",
       "  </tbody>\n",
       "</table>\n",
       "</div>"
      ],
      "text/plain": [
       "                                           Job Title  \\\n",
       "0                                     Data Scientist   \n",
       "1                        Senior/ Lead Data Scientist   \n",
       "2                           Data Scientist / Analyst   \n",
       "3    Forecasting Analyst/ Data Scientist (US Client)   \n",
       "4                 Consultant - Junior Data Scientist   \n",
       "5                                     Data Scientist   \n",
       "6  Excellent Opportunity For Freshers For AI/ML, ...   \n",
       "7                              Junior Data Scientist   \n",
       "8                                     Data Scientist   \n",
       "9                                     Data Scientist   \n",
       "\n",
       "                                            Location          Company Name  \n",
       "0  Pune, Gurgaon/Gurugram, Chennai, Bangalore/Ben...             HDFC Bank  \n",
       "1                                Bangalore/Bengaluru          AmoliTalents  \n",
       "2                                Bangalore/Bengaluru      open data fabric  \n",
       "3  Gurgaon/Gurugram, Bangalore/Bengaluru\\n(WFH du...            Concentrix  \n",
       "4        Navi Mumbai, New Delhi, Bangalore/Bengaluru            Flexing It  \n",
       "5                                Bangalore/Bengaluru                 Shell  \n",
       "6  Noida, Kolkata, Hyderabad/Secunderabad, Pune, ...              NTT Data  \n",
       "7                                Bangalore/Bengaluru                 Titan  \n",
       "8  Hyderabad/Secunderabad, Pune, Bangalore/Bengaluru                Amazon  \n",
       "9                                Bangalore/Bengaluru  Hewlett-Packard (HP)  "
      ]
     },
     "execution_count": 34,
     "metadata": {},
     "output_type": "execute_result"
    }
   ],
   "source": [
    "jobs=pd.DataFrame()\n",
    "jobs['Job Title']=job_titles[:10]\n",
    "jobs['Location']=location[:10]\n",
    "jobs['Company Name']=Company_names[:10]\n",
    "jobs"
   ]
  },
  {
   "cell_type": "markdown",
   "id": "1d10973a",
   "metadata": {},
   "source": [
    "3. Python Program to scrape data using the filters available on the webpage."
   ]
  },
  {
   "cell_type": "code",
   "execution_count": 35,
   "id": "c3db6c6f",
   "metadata": {},
   "outputs": [],
   "source": [
    "driver=webdriver.Chrome('chromedriver.exe')"
   ]
  },
  {
   "cell_type": "code",
   "execution_count": 36,
   "id": "3ebc5b23",
   "metadata": {},
   "outputs": [],
   "source": [
    "url='https://www.naukri.com/'\n",
    "driver.get(url)"
   ]
  },
  {
   "cell_type": "code",
   "execution_count": 37,
   "id": "9ce8bf80",
   "metadata": {},
   "outputs": [
    {
     "data": {
      "text/plain": [
       "<selenium.webdriver.remote.webelement.WebElement (session=\"ea95042b48116933fc0f1c07243b5161\", element=\"29ed97ca-18db-4e08-a158-8c13d8e30fdf\")>"
      ]
     },
     "execution_count": 37,
     "metadata": {},
     "output_type": "execute_result"
    }
   ],
   "source": [
    "search_job=driver.find_element_by_class_name(\"suggestor-input\")\n",
    "search_job"
   ]
  },
  {
   "cell_type": "code",
   "execution_count": 38,
   "id": "52e2a802",
   "metadata": {},
   "outputs": [],
   "source": [
    "search_job.send_keys(\"Data Scientist\")"
   ]
  },
  {
   "cell_type": "code",
   "execution_count": 39,
   "id": "4afa3d5b",
   "metadata": {},
   "outputs": [
    {
     "data": {
      "text/plain": [
       "<selenium.webdriver.remote.webelement.WebElement (session=\"ea95042b48116933fc0f1c07243b5161\", element=\"9cd5755a-fed9-4789-881e-db9ce225d77a\")>"
      ]
     },
     "execution_count": 39,
     "metadata": {},
     "output_type": "execute_result"
    }
   ],
   "source": [
    "search_btn=driver.find_element_by_xpath('//*[@id=\"root\"]/div[2]/div[3]/div/div/div[6]')\n",
    "search_btn"
   ]
  },
  {
   "cell_type": "code",
   "execution_count": 40,
   "id": "f2cc7aa8",
   "metadata": {},
   "outputs": [],
   "source": [
    "search_btn.click()"
   ]
  },
  {
   "cell_type": "code",
   "execution_count": 41,
   "id": "d890b88a",
   "metadata": {},
   "outputs": [],
   "source": [
    "#locn_tags=driver.find_element_by_xpath('//span[@class=\"ellipsis fleft\"]')\n",
    "#locn_tags"
   ]
  },
  {
   "cell_type": "code",
   "execution_count": 42,
   "id": "1b7b08c3",
   "metadata": {},
   "outputs": [],
   "source": [
    "#exp_tags=driver.find_element_by_xpath('//span[@class=\"ellipsis fleft\"]')\n",
    "#exp_tags"
   ]
  },
  {
   "cell_type": "code",
   "execution_count": 43,
   "id": "d075a32d",
   "metadata": {},
   "outputs": [
    {
     "data": {
      "text/plain": [
       "[<selenium.webdriver.remote.webelement.WebElement (session=\"ea95042b48116933fc0f1c07243b5161\", element=\"7bbd1aa1-6a05-4203-866f-a56ca085b31c\")>,\n",
       " <selenium.webdriver.remote.webelement.WebElement (session=\"ea95042b48116933fc0f1c07243b5161\", element=\"3ff3d23b-1199-438e-aebf-be552401f52a\")>]"
      ]
     },
     "execution_count": 43,
     "metadata": {},
     "output_type": "execute_result"
    }
   ],
   "source": [
    "title_tags = driver.find_elements_by_xpath('//a[@class=\"title fw500 ellipsis\"]')\n",
    "len(title_tags)\n",
    "title_tags[0:2]"
   ]
  },
  {
   "cell_type": "code",
   "execution_count": 44,
   "id": "5bee2274",
   "metadata": {},
   "outputs": [
    {
     "data": {
      "text/plain": [
       "['Data Scientist',\n",
       " 'Excellent Opportunity For Freshers For AI/ML, Data Scientist, BI, QA',\n",
       " 'Forecasting Analyst/ Data Scientist (US Client)',\n",
       " 'Data Scientist',\n",
       " 'Consultant - Junior Data Scientist',\n",
       " 'HCL Tech Opening - Senior Data Scientist',\n",
       " 'Data Scientist / Machine Learning Engineer',\n",
       " 'Data Scientist/ Analyst Specialist',\n",
       " 'Virtusa Hiring DATA Scientist- PAN India',\n",
       " 'Job Openings - Freshers, Experienced For Data Scientist Role']"
      ]
     },
     "execution_count": 44,
     "metadata": {},
     "output_type": "execute_result"
    }
   ],
   "source": [
    "job_titles = []\n",
    "for i in title_tags:\n",
    "    job_titles.append(i.text)\n",
    "len(job_titles)\n",
    "job_titles[0:10]"
   ]
  },
  {
   "cell_type": "code",
   "execution_count": 45,
   "id": "ef504cbb",
   "metadata": {},
   "outputs": [
    {
     "data": {
      "text/plain": [
       "[<selenium.webdriver.remote.webelement.WebElement (session=\"ea95042b48116933fc0f1c07243b5161\", element=\"0b88c3af-3ab0-49e9-8500-e81a26e9a702\")>,\n",
       " <selenium.webdriver.remote.webelement.WebElement (session=\"ea95042b48116933fc0f1c07243b5161\", element=\"7591ef6c-fb0c-444b-9834-2fdb5d6d359b\")>]"
      ]
     },
     "execution_count": 45,
     "metadata": {},
     "output_type": "execute_result"
    }
   ],
   "source": [
    "locn_tags=driver.find_elements_by_xpath('//li[@class=\"fleft grey-text br2 placeHolderLi location\"]')\n",
    "locn_tags[0:2]"
   ]
  },
  {
   "cell_type": "code",
   "execution_count": 46,
   "id": "d698a8a4",
   "metadata": {},
   "outputs": [
    {
     "data": {
      "text/plain": [
       "['Pune, Gurgaon/Gurugram, Chennai, Bangalore/Bengaluru, Delhi / NCR, Mumbai (All Areas)',\n",
       " 'Noida, Kolkata, Hyderabad/Secunderabad, Pune, Chennai, Bangalore/Bengaluru, Delhi / NCR, Mumbai (All Areas)\\n(WFH during Covid)',\n",
       " 'Gurgaon/Gurugram, Bangalore/Bengaluru\\n(WFH during Covid)',\n",
       " 'Gurgaon/Gurugram\\n(WFH during Covid)',\n",
       " 'Navi Mumbai, New Delhi, Bangalore/Bengaluru',\n",
       " 'Noida, Kolkata, Hyderabad/Secunderabad, Pune, Chennai, Bangalore/Bengaluru',\n",
       " 'New Delhi',\n",
       " 'Noida, New Delhi, Gurgaon/Gurugram, Delhi / NCR, Mumbai (All Areas)',\n",
       " 'Hyderabad/Secunderabad, Pune, Gurgaon/Gurugram, Chennai, Bangalore/Bengaluru, Mumbai (All Areas)\\n(WFH during Covid)',\n",
       " 'Hyderabad/Secunderabad']"
      ]
     },
     "execution_count": 46,
     "metadata": {},
     "output_type": "execute_result"
    }
   ],
   "source": [
    "location = []\n",
    "for i in locn_tags:\n",
    "    location.append(i.text)\n",
    "location[0:10]"
   ]
  },
  {
   "cell_type": "code",
   "execution_count": 47,
   "id": "b9b9e415",
   "metadata": {},
   "outputs": [
    {
     "data": {
      "text/plain": [
       "[<selenium.webdriver.remote.webelement.WebElement (session=\"ea95042b48116933fc0f1c07243b5161\", element=\"196dfd9c-4a3d-4dba-9049-c66909ffbb16\")>,\n",
       " <selenium.webdriver.remote.webelement.WebElement (session=\"ea95042b48116933fc0f1c07243b5161\", element=\"13d107be-5bfe-4818-8ba0-aada31bb601e\")>]"
      ]
     },
     "execution_count": 47,
     "metadata": {},
     "output_type": "execute_result"
    }
   ],
   "source": [
    "company_tags=driver.find_elements_by_xpath('//a[@class=\"subTitle ellipsis fleft\"]')\n",
    "company_tags[0:2]"
   ]
  },
  {
   "cell_type": "code",
   "execution_count": 48,
   "id": "4a7533fe",
   "metadata": {},
   "outputs": [
    {
     "data": {
      "text/plain": [
       "['HDFC Bank',\n",
       " 'NTT Data',\n",
       " 'Concentrix',\n",
       " 'Origo Commodities India Private Limited',\n",
       " 'Flexing It',\n",
       " 'HCL',\n",
       " 'PubMatic',\n",
       " 'TransOrg Solutions Services (P) Ltd.',\n",
       " 'Virtusa',\n",
       " 'GlobalData']"
      ]
     },
     "execution_count": 48,
     "metadata": {},
     "output_type": "execute_result"
    }
   ],
   "source": [
    "Company_names = []\n",
    "for i in company_tags:\n",
    "    Company_names.append(i.text)\n",
    "Company_names[0:10]"
   ]
  },
  {
   "cell_type": "code",
   "execution_count": 49,
   "id": "16323ad4",
   "metadata": {},
   "outputs": [
    {
     "data": {
      "text/html": [
       "<div>\n",
       "<style scoped>\n",
       "    .dataframe tbody tr th:only-of-type {\n",
       "        vertical-align: middle;\n",
       "    }\n",
       "\n",
       "    .dataframe tbody tr th {\n",
       "        vertical-align: top;\n",
       "    }\n",
       "\n",
       "    .dataframe thead th {\n",
       "        text-align: right;\n",
       "    }\n",
       "</style>\n",
       "<table border=\"1\" class=\"dataframe\">\n",
       "  <thead>\n",
       "    <tr style=\"text-align: right;\">\n",
       "      <th></th>\n",
       "      <th>Job Title</th>\n",
       "      <th>Location</th>\n",
       "      <th>Company Name</th>\n",
       "    </tr>\n",
       "  </thead>\n",
       "  <tbody>\n",
       "    <tr>\n",
       "      <th>0</th>\n",
       "      <td>Data Scientist</td>\n",
       "      <td>Pune, Gurgaon/Gurugram, Chennai, Bangalore/Ben...</td>\n",
       "      <td>HDFC Bank</td>\n",
       "    </tr>\n",
       "    <tr>\n",
       "      <th>1</th>\n",
       "      <td>Excellent Opportunity For Freshers For AI/ML, ...</td>\n",
       "      <td>Noida, Kolkata, Hyderabad/Secunderabad, Pune, ...</td>\n",
       "      <td>NTT Data</td>\n",
       "    </tr>\n",
       "    <tr>\n",
       "      <th>2</th>\n",
       "      <td>Forecasting Analyst/ Data Scientist (US Client)</td>\n",
       "      <td>Gurgaon/Gurugram, Bangalore/Bengaluru\\n(WFH du...</td>\n",
       "      <td>Concentrix</td>\n",
       "    </tr>\n",
       "    <tr>\n",
       "      <th>3</th>\n",
       "      <td>Data Scientist</td>\n",
       "      <td>Gurgaon/Gurugram\\n(WFH during Covid)</td>\n",
       "      <td>Origo Commodities India Private Limited</td>\n",
       "    </tr>\n",
       "    <tr>\n",
       "      <th>4</th>\n",
       "      <td>Consultant - Junior Data Scientist</td>\n",
       "      <td>Navi Mumbai, New Delhi, Bangalore/Bengaluru</td>\n",
       "      <td>Flexing It</td>\n",
       "    </tr>\n",
       "    <tr>\n",
       "      <th>5</th>\n",
       "      <td>HCL Tech Opening - Senior Data Scientist</td>\n",
       "      <td>Noida, Kolkata, Hyderabad/Secunderabad, Pune, ...</td>\n",
       "      <td>HCL</td>\n",
       "    </tr>\n",
       "    <tr>\n",
       "      <th>6</th>\n",
       "      <td>Data Scientist / Machine Learning Engineer</td>\n",
       "      <td>New Delhi</td>\n",
       "      <td>PubMatic</td>\n",
       "    </tr>\n",
       "    <tr>\n",
       "      <th>7</th>\n",
       "      <td>Data Scientist/ Analyst Specialist</td>\n",
       "      <td>Noida, New Delhi, Gurgaon/Gurugram, Delhi / NC...</td>\n",
       "      <td>TransOrg Solutions Services (P) Ltd.</td>\n",
       "    </tr>\n",
       "    <tr>\n",
       "      <th>8</th>\n",
       "      <td>Virtusa Hiring DATA Scientist- PAN India</td>\n",
       "      <td>Hyderabad/Secunderabad, Pune, Gurgaon/Gurugram...</td>\n",
       "      <td>Virtusa</td>\n",
       "    </tr>\n",
       "    <tr>\n",
       "      <th>9</th>\n",
       "      <td>Job Openings - Freshers, Experienced For Data ...</td>\n",
       "      <td>Hyderabad/Secunderabad</td>\n",
       "      <td>GlobalData</td>\n",
       "    </tr>\n",
       "  </tbody>\n",
       "</table>\n",
       "</div>"
      ],
      "text/plain": [
       "                                           Job Title  \\\n",
       "0                                     Data Scientist   \n",
       "1  Excellent Opportunity For Freshers For AI/ML, ...   \n",
       "2    Forecasting Analyst/ Data Scientist (US Client)   \n",
       "3                                     Data Scientist   \n",
       "4                 Consultant - Junior Data Scientist   \n",
       "5           HCL Tech Opening - Senior Data Scientist   \n",
       "6         Data Scientist / Machine Learning Engineer   \n",
       "7                 Data Scientist/ Analyst Specialist   \n",
       "8           Virtusa Hiring DATA Scientist- PAN India   \n",
       "9  Job Openings - Freshers, Experienced For Data ...   \n",
       "\n",
       "                                            Location  \\\n",
       "0  Pune, Gurgaon/Gurugram, Chennai, Bangalore/Ben...   \n",
       "1  Noida, Kolkata, Hyderabad/Secunderabad, Pune, ...   \n",
       "2  Gurgaon/Gurugram, Bangalore/Bengaluru\\n(WFH du...   \n",
       "3               Gurgaon/Gurugram\\n(WFH during Covid)   \n",
       "4        Navi Mumbai, New Delhi, Bangalore/Bengaluru   \n",
       "5  Noida, Kolkata, Hyderabad/Secunderabad, Pune, ...   \n",
       "6                                          New Delhi   \n",
       "7  Noida, New Delhi, Gurgaon/Gurugram, Delhi / NC...   \n",
       "8  Hyderabad/Secunderabad, Pune, Gurgaon/Gurugram...   \n",
       "9                             Hyderabad/Secunderabad   \n",
       "\n",
       "                              Company Name  \n",
       "0                                HDFC Bank  \n",
       "1                                 NTT Data  \n",
       "2                               Concentrix  \n",
       "3  Origo Commodities India Private Limited  \n",
       "4                               Flexing It  \n",
       "5                                      HCL  \n",
       "6                                 PubMatic  \n",
       "7     TransOrg Solutions Services (P) Ltd.  \n",
       "8                                  Virtusa  \n",
       "9                               GlobalData  "
      ]
     },
     "execution_count": 49,
     "metadata": {},
     "output_type": "execute_result"
    }
   ],
   "source": [
    "jobs=pd.DataFrame()\n",
    "jobs['Job Title']=job_titles[:10]\n",
    "jobs['Location']=location[:10]\n",
    "jobs['Company Name']=Company_names[:10]\n",
    "jobs"
   ]
  },
  {
   "cell_type": "markdown",
   "id": "7b21469c",
   "metadata": {},
   "source": [
    "4. Scrape data of first 100 sunglasses listings on flipkart.com."
   ]
  },
  {
   "cell_type": "code",
   "execution_count": 71,
   "id": "7af3c718",
   "metadata": {},
   "outputs": [],
   "source": [
    "driver=webdriver.Chrome('chromedriver.exe')"
   ]
  },
  {
   "cell_type": "code",
   "execution_count": 72,
   "id": "fd77cc7d",
   "metadata": {},
   "outputs": [],
   "source": [
    "url='https://www.flipkart.com/'\n",
    "driver.get(url)"
   ]
  },
  {
   "cell_type": "code",
   "execution_count": 73,
   "id": "ce976ef1",
   "metadata": {},
   "outputs": [
    {
     "data": {
      "text/plain": [
       "<selenium.webdriver.remote.webelement.WebElement (session=\"bb3ae9155e5fd6659c5943f8afdca795\", element=\"375f2ee0-aec6-4086-b913-4a577cfb9d4d\")>"
      ]
     },
     "execution_count": 73,
     "metadata": {},
     "output_type": "execute_result"
    }
   ],
   "source": [
    "search_item=driver.find_element_by_class_name(\"_3704LK\")\n",
    "search_item"
   ]
  },
  {
   "cell_type": "code",
   "execution_count": 74,
   "id": "8cc500e1",
   "metadata": {},
   "outputs": [],
   "source": [
    "search_item.send_keys(\"sunglasses\")"
   ]
  },
  {
   "cell_type": "code",
   "execution_count": 75,
   "id": "22ed218b",
   "metadata": {},
   "outputs": [
    {
     "data": {
      "text/plain": [
       "<selenium.webdriver.remote.webelement.WebElement (session=\"bb3ae9155e5fd6659c5943f8afdca795\", element=\"e235805b-0b41-450e-87e6-b1a250001bd6\")>"
      ]
     },
     "execution_count": 75,
     "metadata": {},
     "output_type": "execute_result"
    }
   ],
   "source": [
    "search_icon=driver.find_element_by_class_name(\"L0Z3Pu\")\n",
    "search_icon"
   ]
  },
  {
   "cell_type": "code",
   "execution_count": 79,
   "id": "f0a35681",
   "metadata": {},
   "outputs": [],
   "source": [
    "search_icon.click()"
   ]
  },
  {
   "cell_type": "code",
   "execution_count": 80,
   "id": "b2e09994",
   "metadata": {
    "scrolled": true
   },
   "outputs": [
    {
     "data": {
      "text/plain": [
       "[<selenium.webdriver.remote.webelement.WebElement (session=\"bb3ae9155e5fd6659c5943f8afdca795\", element=\"3b80c868-4aa8-4c25-afe9-581d699da51b\")>,\n",
       " <selenium.webdriver.remote.webelement.WebElement (session=\"bb3ae9155e5fd6659c5943f8afdca795\", element=\"24a9e7eb-edce-46ee-b97e-f776a0071232\")>]"
      ]
     },
     "execution_count": 80,
     "metadata": {},
     "output_type": "execute_result"
    }
   ],
   "source": [
    "brand_tags = driver.find_elements_by_xpath('//div[@class=\"_2WkVRV\"]')\n",
    "len(brand_tags)\n",
    "brand_tags[0:2]"
   ]
  },
  {
   "cell_type": "code",
   "execution_count": 81,
   "id": "ea6058c1",
   "metadata": {},
   "outputs": [
    {
     "data": {
      "text/plain": [
       "['VINCENT CHASE',\n",
       " 'ROZZETTA CRAFT',\n",
       " 'SRPM',\n",
       " 'SUNBEE',\n",
       " 'DEIXELS',\n",
       " 'PIRASO',\n",
       " 'Elligator',\n",
       " 'ROZZETTA CRAFT',\n",
       " 'SHAAH COLLECTIONS',\n",
       " 'PIRASO',\n",
       " 'New Specs',\n",
       " 'ROZZETTA CRAFT',\n",
       " 'Fastrack',\n",
       " 'PIRASO',\n",
       " 'kingsunglasses',\n",
       " 'LOUIS KOUROS',\n",
       " 'GANSTA',\n",
       " 'Fastrack',\n",
       " 'ROZZETTA CRAFT',\n",
       " 'povty',\n",
       " 'kingsunglasses',\n",
       " 'Silver Kartz',\n",
       " 'Lee Topper',\n",
       " 'ROZZETTA CRAFT',\n",
       " 'SUNBEE',\n",
       " 'PIRASO',\n",
       " 'kingsunglasses',\n",
       " 'VINCENT CHASE',\n",
       " 'ROYAL SON',\n",
       " 'Lee Topper',\n",
       " 'Rich Club',\n",
       " 'ZOSTAL',\n",
       " 'Elligator',\n",
       " 'PHENOMENAL',\n",
       " 'SRPM',\n",
       " 'Singco India',\n",
       " 'Fastrack',\n",
       " 'PIRASO',\n",
       " 'NuVew',\n",
       " 'AISLIN']"
      ]
     },
     "execution_count": 81,
     "metadata": {},
     "output_type": "execute_result"
    }
   ],
   "source": [
    "Brand_Names = []\n",
    "for i in brand_tags:\n",
    "    Brand_Names.append(i.text)\n",
    "#len(job_title)\n",
    "Brand_Names"
   ]
  },
  {
   "cell_type": "code",
   "execution_count": 82,
   "id": "aa91a96a",
   "metadata": {},
   "outputs": [
    {
     "data": {
      "text/plain": [
       "[<selenium.webdriver.remote.webelement.WebElement (session=\"bb3ae9155e5fd6659c5943f8afdca795\", element=\"f654a41e-5f5e-4472-a22a-64fc4666b9b6\")>,\n",
       " <selenium.webdriver.remote.webelement.WebElement (session=\"bb3ae9155e5fd6659c5943f8afdca795\", element=\"a2312383-ee2d-4fb7-8aa7-e4b435791968\")>]"
      ]
     },
     "execution_count": 82,
     "metadata": {},
     "output_type": "execute_result"
    }
   ],
   "source": [
    "Product_tags = driver.find_elements_by_xpath('//a[@class=\"IRpwTa\"]')\n",
    "len(Product_tags)\n",
    "Product_tags[0:2]"
   ]
  },
  {
   "cell_type": "code",
   "execution_count": 83,
   "id": "0c01af03",
   "metadata": {},
   "outputs": [
    {
     "data": {
      "text/plain": [
       "['by Lenskart Polarized, UV Protection Aviator Sunglasses...',\n",
       " 'UV Protection Spectacle Sunglasses (Free Size)',\n",
       " 'UV Protection Wayfarer Sunglasses (50)',\n",
       " 'UV Protection, Polarized Wayfarer Sunglasses (Free Size...',\n",
       " 'UV Protection Aviator, Wayfarer Sunglasses (Free Size)',\n",
       " 'UV Protection Aviator Sunglasses (54)',\n",
       " 'UV Protection Round Sunglasses (54)',\n",
       " 'UV Protection, UV Protection Retro Square Sunglasses (F...',\n",
       " 'UV Protection, Polarized, Mirrored Rectangular Sunglass...',\n",
       " 'UV Protection Aviator Sunglasses (54)',\n",
       " 'UV Protection Rectangular Sunglasses (Free Size)',\n",
       " 'UV Protection, Gradient Rectangular Sunglasses (Free Si...',\n",
       " 'UV Protection Rectangular Sunglasses (Free Size)',\n",
       " 'UV Protection Aviator Sunglasses (54)',\n",
       " 'UV Protection, Riding Glasses, Mirrored Wayfarer Sungla...',\n",
       " 'UV Protection Aviator Sunglasses (60)',\n",
       " 'UV Protection, Riding Glasses Wayfarer Sunglasses (53)',\n",
       " 'UV Protection Wayfarer Sunglasses (Free Size)',\n",
       " 'Polarized, Night Vision, Riding Glasses Sports, Wrap-ar...',\n",
       " 'UV Protection Retro Square Sunglasses (Free Size)',\n",
       " 'Mirrored, UV Protection Wayfarer Sunglasses (Free Size)',\n",
       " 'UV Protection Wayfarer Sunglasses (Free Size)',\n",
       " 'Riding Glasses Wrap-around Sunglasses (Free Size)',\n",
       " 'UV Protection Aviator Sunglasses (62)',\n",
       " 'UV Protection, Polarized, Mirrored Round Sunglasses (Fr...',\n",
       " 'UV Protection Wayfarer Sunglasses (55)',\n",
       " 'UV Protection Round Sunglasses (54)',\n",
       " 'by Lenskart Polarized, UV Protection Round Sunglasses (...',\n",
       " 'Mirrored Aviator Sunglasses (55)',\n",
       " 'UV Protection Rectangular Sunglasses (Free Size)',\n",
       " 'UV Protection Round Sunglasses (48)',\n",
       " 'UV Protection, Polarized Rectangular Sunglasses (Free S...',\n",
       " 'UV Protection Round Sunglasses (53)',\n",
       " 'UV Protection Retro Square Sunglasses (53)',\n",
       " 'UV Protection Wayfarer Sunglasses (53)',\n",
       " 'Mirrored, Riding Glasses, Others Sports Sunglasses (50)',\n",
       " 'Polarized Retro Square Sunglasses (Free Size)',\n",
       " 'UV Protection Wayfarer Sunglasses (32)',\n",
       " 'UV Protection Sports Sunglasses (62)',\n",
       " 'UV Protection, Gradient Oval Sunglasses (58)']"
      ]
     },
     "execution_count": 83,
     "metadata": {},
     "output_type": "execute_result"
    }
   ],
   "source": [
    "Product_description = []\n",
    "for i in Product_tags:\n",
    "    Product_description.append(i.text)\n",
    "#len(job_title)\n",
    "Product_description"
   ]
  },
  {
   "cell_type": "code",
   "execution_count": 47,
   "id": "21c17f51",
   "metadata": {},
   "outputs": [
    {
     "data": {
      "text/plain": [
       "[<selenium.webdriver.remote.webelement.WebElement (session=\"474df1e94dd88510ea5fbf26c59f763b\", element=\"3b49d3d6-c02f-4846-ba40-b9b56dfe9639\")>,\n",
       " <selenium.webdriver.remote.webelement.WebElement (session=\"474df1e94dd88510ea5fbf26c59f763b\", element=\"07cbc429-fc64-4df2-a9c8-d7a559cd22e0\")>]"
      ]
     },
     "execution_count": 47,
     "metadata": {},
     "output_type": "execute_result"
    }
   ],
   "source": [
    "Price_tags = driver.find_elements_by_xpath('//div[@class=\"_30jeq3\"]')\n",
    "len(Price_tags)\n",
    "Price_tags[0:2]"
   ]
  },
  {
   "cell_type": "code",
   "execution_count": 53,
   "id": "36907062",
   "metadata": {},
   "outputs": [
    {
     "data": {
      "text/plain": [
       "['₹930',\n",
       " '₹349',\n",
       " '₹148',\n",
       " '₹203',\n",
       " '₹179',\n",
       " '₹152',\n",
       " '₹175',\n",
       " '₹399',\n",
       " '₹208',\n",
       " '₹629',\n",
       " '₹182',\n",
       " '₹1,299',\n",
       " '₹115',\n",
       " '₹134',\n",
       " '₹148',\n",
       " '₹799',\n",
       " '₹175',\n",
       " '₹549',\n",
       " '₹424',\n",
       " '₹128',\n",
       " '₹149',\n",
       " '₹189',\n",
       " '₹175',\n",
       " '₹249',\n",
       " '₹225',\n",
       " '₹196',\n",
       " '₹210',\n",
       " '₹599',\n",
       " '₹548',\n",
       " '₹239',\n",
       " '₹139',\n",
       " '₹3,029',\n",
       " '₹629',\n",
       " '₹175',\n",
       " '₹170',\n",
       " '₹1,299',\n",
       " '₹234',\n",
       " '₹136',\n",
       " '₹213',\n",
       " '₹396']"
      ]
     },
     "execution_count": 53,
     "metadata": {},
     "output_type": "execute_result"
    }
   ],
   "source": [
    "Product_price = []\n",
    "for i in Price_tags:\n",
    "    Product_price.append(i.text)\n",
    "#len(job_title)\n",
    "Product_price"
   ]
  },
  {
   "cell_type": "code",
   "execution_count": 56,
   "id": "00fabfa2",
   "metadata": {},
   "outputs": [
    {
     "data": {
      "text/plain": [
       "[<selenium.webdriver.remote.webelement.WebElement (session=\"474df1e94dd88510ea5fbf26c59f763b\", element=\"fe678730-5cbb-4529-8dcb-b84e856de499\")>,\n",
       " <selenium.webdriver.remote.webelement.WebElement (session=\"474df1e94dd88510ea5fbf26c59f763b\", element=\"e1b31799-3b86-4a58-933a-23f155668d80\")>]"
      ]
     },
     "execution_count": 56,
     "metadata": {},
     "output_type": "execute_result"
    }
   ],
   "source": [
    "brand_tags = driver.find_elements_by_xpath('//div[@class=\"_2WkVRV\"]')\n",
    "len(brand_tags)\n",
    "brand_tags[0:2]"
   ]
  },
  {
   "cell_type": "code",
   "execution_count": 57,
   "id": "28ec17c4",
   "metadata": {},
   "outputs": [
    {
     "data": {
      "text/plain": [
       "['SRPM',\n",
       " 'SUNBEE',\n",
       " 'SRPM',\n",
       " 'ROZZETTA CRAFT',\n",
       " 'kingsunglasses',\n",
       " 'kingsunglasses',\n",
       " 'SHAAH COLLECTIONS',\n",
       " 'VINCENT CHASE',\n",
       " 'ROYAL SON',\n",
       " 'Fastrack',\n",
       " 'ROZZETTA CRAFT',\n",
       " 'ROZZETTA CRAFT',\n",
       " 'PHENOMENAL',\n",
       " 'PIRASO',\n",
       " 'GANSTA',\n",
       " 'ROZZETTA CRAFT',\n",
       " 'NuVew',\n",
       " 'IDEE',\n",
       " 'New Specs',\n",
       " 'LOUIS KOUROS',\n",
       " 'Rich Club',\n",
       " 'SRPM',\n",
       " 'PIRASO',\n",
       " 'ROZZETTA CRAFT',\n",
       " 'PIRASO',\n",
       " 'PIRASO',\n",
       " 'ROYAL SON',\n",
       " 'VILLAIN',\n",
       " 'Silver Kartz',\n",
       " 'VINCENT CHASE',\n",
       " 'DEIXELS',\n",
       " 'ROZZETTA CRAFT',\n",
       " 'Singco India',\n",
       " 'PIRASO',\n",
       " 'IDEE',\n",
       " 'ROZZETTA CRAFT',\n",
       " 'ROYAL SON',\n",
       " 'IDEE',\n",
       " 'IDEE',\n",
       " 'povty']"
      ]
     },
     "execution_count": 57,
     "metadata": {},
     "output_type": "execute_result"
    }
   ],
   "source": [
    "Brand_Names = []\n",
    "for i in brand_tags:\n",
    "    Brand_Names.append(i.text)\n",
    "#len(job_title)\n",
    "Brand_Names"
   ]
  },
  {
   "cell_type": "code",
   "execution_count": 58,
   "id": "a3202e00",
   "metadata": {},
   "outputs": [
    {
     "data": {
      "text/plain": [
       "[<selenium.webdriver.remote.webelement.WebElement (session=\"474df1e94dd88510ea5fbf26c59f763b\", element=\"69d05ba4-df97-48c6-9a05-21384da5bde3\")>,\n",
       " <selenium.webdriver.remote.webelement.WebElement (session=\"474df1e94dd88510ea5fbf26c59f763b\", element=\"9438aaa0-eedf-4432-9dad-5f82e9c13f96\")>]"
      ]
     },
     "execution_count": 58,
     "metadata": {},
     "output_type": "execute_result"
    }
   ],
   "source": [
    "Product_tags = driver.find_elements_by_xpath('//a[@class=\"IRpwTa\"]')\n",
    "len(Product_tags)\n",
    "Product_tags[0:2]"
   ]
  },
  {
   "cell_type": "code",
   "execution_count": 60,
   "id": "66c3760a",
   "metadata": {},
   "outputs": [
    {
     "data": {
      "text/plain": [
       "['UV Protection Wayfarer Sunglasses (53)',\n",
       " 'UV Protection, Polarized, Mirrored Round Sunglasses (Fr...',\n",
       " 'Others Wayfarer, Retro Square Sunglasses (50)',\n",
       " 'UV Protection Spectacle Sunglasses (Free Size)',\n",
       " 'Mirrored, UV Protection Wayfarer, Rectangular Sunglasse...',\n",
       " 'UV Protection Round Sunglasses (Free Size)',\n",
       " 'UV Protection, Polarized, Mirrored Rectangular Sunglass...',\n",
       " 'by Lenskart Polarized, UV Protection Aviator Sunglasses...',\n",
       " 'Mirrored Aviator Sunglasses (Free Size)',\n",
       " 'Gradient, UV Protection Wayfarer Sunglasses (Free Size)',\n",
       " 'UV Protection Retro Square Sunglasses (Free Size)',\n",
       " 'UV Protection, Gradient Rectangular Sunglasses (Free Si...',\n",
       " 'UV Protection Retro Square Sunglasses (Free Size)',\n",
       " 'UV Protection Aviator Sunglasses (Free Size)',\n",
       " 'UV Protection Aviator Sunglasses (57)',\n",
       " 'UV Protection, UV Protection Retro Square Sunglasses (F...',\n",
       " 'UV Protection Sports Sunglasses (62)',\n",
       " 'UV Protection Rectangular Sunglasses (59)',\n",
       " 'UV Protection Aviator Sunglasses (Free Size)',\n",
       " 'UV Protection Aviator Sunglasses (60)',\n",
       " 'Polarized Round Sunglasses (48)',\n",
       " 'Night Vision, UV Protection Round Sunglasses (54)',\n",
       " 'UV Protection Butterfly Sunglasses (65)',\n",
       " 'Gradient, UV Protection Round Sunglasses (Free Size)',\n",
       " 'UV Protection Aviator Sunglasses (58)',\n",
       " 'Mirrored Aviator Sunglasses (32)',\n",
       " 'Mirrored Aviator Sunglasses (55)',\n",
       " 'Others Wayfarer Sunglasses (Free Size)',\n",
       " 'UV Protection Aviator Sunglasses (88)',\n",
       " 'by Lenskart Polarized, UV Protection Wayfarer Sunglasse...',\n",
       " 'UV Protection Wayfarer Sunglasses (Free Size)',\n",
       " 'UV Protection Aviator Sunglasses (62)',\n",
       " 'Mirrored, Riding Glasses, Others Sports Sunglasses (50)',\n",
       " 'UV Protection Butterfly Sunglasses (60)',\n",
       " 'UV Protection Cat-eye Sunglasses (17)',\n",
       " 'UV Protection Aviator Sunglasses (62)',\n",
       " 'Polarized Rectangular Sunglasses (60)',\n",
       " 'UV Protection Over-sized Sunglasses (57)',\n",
       " 'UV Protection Cat-eye Sunglasses (17)',\n",
       " 'UV Protection Retro Square Sunglasses (Free Size)']"
      ]
     },
     "execution_count": 60,
     "metadata": {},
     "output_type": "execute_result"
    }
   ],
   "source": [
    "Product_description = []\n",
    "for i in Product_tags:\n",
    "    Product_description.append(i.text)\n",
    "#len(job_title)\n",
    "Product_description"
   ]
  },
  {
   "cell_type": "code",
   "execution_count": 61,
   "id": "552bb54d",
   "metadata": {},
   "outputs": [
    {
     "data": {
      "text/plain": [
       "[<selenium.webdriver.remote.webelement.WebElement (session=\"474df1e94dd88510ea5fbf26c59f763b\", element=\"ea14ccb9-39d7-440f-8a18-ed5b29beb3c1\")>,\n",
       " <selenium.webdriver.remote.webelement.WebElement (session=\"474df1e94dd88510ea5fbf26c59f763b\", element=\"ab3df10f-6dc6-42cf-b75c-11ea8bc15737\")>]"
      ]
     },
     "execution_count": 61,
     "metadata": {},
     "output_type": "execute_result"
    }
   ],
   "source": [
    "Price_tags = driver.find_elements_by_xpath('//div[@class=\"_30jeq3\"]')\n",
    "len(Price_tags)\n",
    "Price_tags[0:2]"
   ]
  },
  {
   "cell_type": "code",
   "execution_count": 62,
   "id": "785d56c1",
   "metadata": {},
   "outputs": [
    {
     "data": {
      "text/plain": [
       "['₹170',\n",
       " '₹234',\n",
       " '₹128',\n",
       " '₹349',\n",
       " '₹208',\n",
       " '₹239',\n",
       " '₹131',\n",
       " '₹930',\n",
       " '₹329',\n",
       " '₹629',\n",
       " '₹424',\n",
       " '₹399',\n",
       " '₹278',\n",
       " '₹249',\n",
       " '₹234',\n",
       " '₹181',\n",
       " '₹277',\n",
       " '₹929',\n",
       " '₹133',\n",
       " '₹1,299',\n",
       " '₹125',\n",
       " '₹149',\n",
       " '₹325',\n",
       " '₹376',\n",
       " '₹299',\n",
       " '₹149',\n",
       " '₹329',\n",
       " '₹472',\n",
       " '₹205',\n",
       " '₹749',\n",
       " '₹149',\n",
       " '₹599',\n",
       " '₹144',\n",
       " '₹325',\n",
       " '₹869',\n",
       " '₹599',\n",
       " '₹614',\n",
       " '₹929',\n",
       " '₹859',\n",
       " '₹249']"
      ]
     },
     "execution_count": 62,
     "metadata": {},
     "output_type": "execute_result"
    }
   ],
   "source": [
    "Product_price = []\n",
    "for i in Price_tags:\n",
    "    Product_price.append(i.text)\n",
    "#len(job_title)\n",
    "Product_price"
   ]
  },
  {
   "cell_type": "code",
   "execution_count": 64,
   "id": "a6c29331",
   "metadata": {},
   "outputs": [
    {
     "data": {
      "text/plain": [
       "[<selenium.webdriver.remote.webelement.WebElement (session=\"474df1e94dd88510ea5fbf26c59f763b\", element=\"ab74908d-9a85-49cf-971f-c5de50fbae92\")>,\n",
       " <selenium.webdriver.remote.webelement.WebElement (session=\"474df1e94dd88510ea5fbf26c59f763b\", element=\"ad751d96-480b-4176-b970-a7df78552516\")>]"
      ]
     },
     "execution_count": 64,
     "metadata": {},
     "output_type": "execute_result"
    }
   ],
   "source": [
    "brand_tags = driver.find_elements_by_xpath('//div[@class=\"_2WkVRV\"]')\n",
    "len(brand_tags)\n",
    "brand_tags[0:2]"
   ]
  },
  {
   "cell_type": "code",
   "execution_count": 65,
   "id": "ac6a5370",
   "metadata": {},
   "outputs": [
    {
     "data": {
      "text/plain": [
       "['Rich Club',\n",
       " 'PHENOMENAL',\n",
       " 'hipe',\n",
       " 'LOUIS KOUROS',\n",
       " 'Rich Club',\n",
       " 'PHENOMENAL',\n",
       " 'ROZZETTA CRAFT',\n",
       " 'LOUIS KOUROS',\n",
       " 'NuVew',\n",
       " 'Fravy',\n",
       " 'PIRASO',\n",
       " 'AISLIN',\n",
       " 'hipe',\n",
       " 'Silver Kartz',\n",
       " 'Elligator',\n",
       " 'AISLIN',\n",
       " 'AISLIN',\n",
       " 'Fastrack',\n",
       " 'Rich Club',\n",
       " 'AISLIN']"
      ]
     },
     "execution_count": 65,
     "metadata": {},
     "output_type": "execute_result"
    }
   ],
   "source": [
    "Brand_Names = []\n",
    "for i in brand_tags:\n",
    "    Brand_Names.append(i.text)\n",
    "Brand_Names[0:20]"
   ]
  },
  {
   "cell_type": "code",
   "execution_count": 66,
   "id": "c847e485",
   "metadata": {},
   "outputs": [
    {
     "data": {
      "text/plain": [
       "[<selenium.webdriver.remote.webelement.WebElement (session=\"474df1e94dd88510ea5fbf26c59f763b\", element=\"f21905fb-a9e7-4de1-8b5c-86b73f7775f1\")>,\n",
       " <selenium.webdriver.remote.webelement.WebElement (session=\"474df1e94dd88510ea5fbf26c59f763b\", element=\"826f38be-626a-4802-9318-ab58a3e20f6a\")>]"
      ]
     },
     "execution_count": 66,
     "metadata": {},
     "output_type": "execute_result"
    }
   ],
   "source": [
    "Product_tags = driver.find_elements_by_xpath('//a[@class=\"IRpwTa\"]')\n",
    "len(Product_tags)\n",
    "Product_tags[0:2]"
   ]
  },
  {
   "cell_type": "code",
   "execution_count": 69,
   "id": "12dbf7f9",
   "metadata": {},
   "outputs": [
    {
     "data": {
      "text/plain": [
       "['UV Protection, Polarized Oval, Retro Square Sunglasses ...',\n",
       " 'UV Protection Clubmaster Sunglasses (Free Size)',\n",
       " 'Mirrored, UV Protection, Gradient Round Sunglasses (55)',\n",
       " 'UV Protection, Riding Glasses, Mirrored Aviator Sunglas...',\n",
       " 'Polarized Round Sunglasses (48)',\n",
       " 'UV Protection, Mirrored Clubmaster Sunglasses (Free Siz...',\n",
       " 'UV Protection, Gradient Retro Square Sunglasses (Free S...',\n",
       " 'UV Protection, Riding Glasses, Mirrored Aviator Sunglas...',\n",
       " 'UV Protection, Mirrored Sports Sunglasses (62)',\n",
       " 'Others Retro Square Sunglasses (Free Size)',\n",
       " 'UV Protection Aviator Sunglasses (55)',\n",
       " 'Toughened Glass Lens, UV Protection Aviator Sunglasses ...',\n",
       " 'UV Protection, Gradient, Riding Glasses Wayfarer Sungla...',\n",
       " 'UV Protection Oval Sunglasses (56)',\n",
       " 'Mirrored Round Sunglasses (53)',\n",
       " 'UV Protection, Gradient Cat-eye Sunglasses (60)',\n",
       " 'UV Protection, Gradient Butterfly, Retro Square Sunglas...',\n",
       " 'UV Protection Wayfarer Sunglasses (Free Size)',\n",
       " 'UV Protection, Mirrored, Gradient Round Sunglasses (51)',\n",
       " 'Toughened Glass Lens, UV Protection Aviator, Wrap-aroun...']"
      ]
     },
     "execution_count": 69,
     "metadata": {},
     "output_type": "execute_result"
    }
   ],
   "source": [
    "Product_description = []\n",
    "for i in Product_tags:\n",
    "    Product_description.append(i.text)\n",
    "#len(job_title)\n",
    "Product_description[0:20]"
   ]
  },
  {
   "cell_type": "code",
   "execution_count": 68,
   "id": "e6eb8f54",
   "metadata": {},
   "outputs": [
    {
     "data": {
      "text/plain": [
       "[<selenium.webdriver.remote.webelement.WebElement (session=\"474df1e94dd88510ea5fbf26c59f763b\", element=\"d0177aa3-763e-4ae4-9b32-192f32cd27e9\")>,\n",
       " <selenium.webdriver.remote.webelement.WebElement (session=\"474df1e94dd88510ea5fbf26c59f763b\", element=\"8b5357e3-eb6d-4745-b98b-302aa177cf0a\")>]"
      ]
     },
     "execution_count": 68,
     "metadata": {},
     "output_type": "execute_result"
    }
   ],
   "source": [
    "Price_tags = driver.find_elements_by_xpath('//div[@class=\"_30jeq3\"]')\n",
    "len(Price_tags)\n",
    "Price_tags[0:2]"
   ]
  },
  {
   "cell_type": "code",
   "execution_count": 70,
   "id": "1ac97848",
   "metadata": {},
   "outputs": [
    {
     "data": {
      "text/plain": [
       "['₹129',\n",
       " '₹257',\n",
       " '₹139',\n",
       " '₹1,419',\n",
       " '₹115',\n",
       " '₹257',\n",
       " '₹281',\n",
       " '₹1,419',\n",
       " '₹277',\n",
       " '₹199',\n",
       " '₹200',\n",
       " '₹810',\n",
       " '₹183',\n",
       " '₹234',\n",
       " '₹229',\n",
       " '₹606',\n",
       " '₹396',\n",
       " '₹759',\n",
       " '₹175',\n",
       " '₹948']"
      ]
     },
     "execution_count": 70,
     "metadata": {},
     "output_type": "execute_result"
    }
   ],
   "source": [
    "Product_price = []\n",
    "for i in Price_tags:\n",
    "    Product_price.append(i.text)\n",
    "Product_price[0:20]"
   ]
  },
  {
   "cell_type": "markdown",
   "id": "72feebce",
   "metadata": {},
   "source": [
    "5. Scrape 100 reviews data from flipkart.com for iphone11 phone."
   ]
  },
  {
   "cell_type": "code",
   "execution_count": 84,
   "id": "4c7a02b3",
   "metadata": {},
   "outputs": [],
   "source": [
    "driver=webdriver.Chrome('chromedriver.exe')"
   ]
  },
  {
   "cell_type": "code",
   "execution_count": 85,
   "id": "3c958634",
   "metadata": {},
   "outputs": [],
   "source": [
    "url='https://www.flipkart.com/apple-iphone-11-black-64-gb-includes- earpods-power- adapter/p/itm0f37c2240b217?pid=MOBFKCTSVZAXUHGR&lid=LSTMOBFKC TSVZAXUHGREPBFGI&marketplace.v'\n",
    "driver.get(url)"
   ]
  },
  {
   "cell_type": "code",
   "execution_count": 89,
   "id": "1bab7e4c",
   "metadata": {},
   "outputs": [
    {
     "data": {
      "text/plain": [
       "[<selenium.webdriver.remote.webelement.WebElement (session=\"fe94e874dbbaf87de65716c102709411\", element=\"386eeef6-d8ec-4518-a907-3cc43b265833\")>,\n",
       " <selenium.webdriver.remote.webelement.WebElement (session=\"fe94e874dbbaf87de65716c102709411\", element=\"5be874df-81db-4d25-b624-ca15764419c6\")>]"
      ]
     },
     "execution_count": 89,
     "metadata": {},
     "output_type": "execute_result"
    }
   ],
   "source": [
    "rating_tags = driver.find_elements_by_xpath('//div[@class=\"_3LWZlK _1BLPMq\"]')\n",
    "len(rating_tags)\n",
    "rating_tags[0:2]"
   ]
  },
  {
   "cell_type": "code",
   "execution_count": 97,
   "id": "7e563174",
   "metadata": {},
   "outputs": [
    {
     "data": {
      "text/plain": [
       "['5', '5', '5', '5', '5', '5', '5', '4', '5', '5']"
      ]
     },
     "execution_count": 97,
     "metadata": {},
     "output_type": "execute_result"
    }
   ],
   "source": [
    "Ratings = []\n",
    "for i in rating_tags:\n",
    "    Ratings.append(i.text)\n",
    "len(Ratings)\n",
    "Ratings"
   ]
  },
  {
   "cell_type": "code",
   "execution_count": 92,
   "id": "db8ad78d",
   "metadata": {},
   "outputs": [
    {
     "data": {
      "text/plain": [
       "[<selenium.webdriver.remote.webelement.WebElement (session=\"fe94e874dbbaf87de65716c102709411\", element=\"b849c325-b8a0-4d67-a190-e68a85e4a9fa\")>,\n",
       " <selenium.webdriver.remote.webelement.WebElement (session=\"fe94e874dbbaf87de65716c102709411\", element=\"9042b3ab-f19c-464d-a1c5-16b63334a19a\")>]"
      ]
     },
     "execution_count": 92,
     "metadata": {},
     "output_type": "execute_result"
    }
   ],
   "source": [
    "summary_tags = driver.find_elements_by_xpath('//p[@class=\"_2-N8zT\"]')\n",
    "len(summary_tags)\n",
    "summary_tags[0:2]"
   ]
  },
  {
   "cell_type": "code",
   "execution_count": 96,
   "id": "97ae5971",
   "metadata": {},
   "outputs": [
    {
     "data": {
      "text/plain": [
       "['Brilliant',\n",
       " 'Simply awesome',\n",
       " 'Best in the market!',\n",
       " 'Perfect product!',\n",
       " 'Fabulous!',\n",
       " 'Worth every penny',\n",
       " 'Great product',\n",
       " 'Good choice',\n",
       " 'Highly recommended',\n",
       " 'Worth every penny']"
      ]
     },
     "execution_count": 96,
     "metadata": {},
     "output_type": "execute_result"
    }
   ],
   "source": [
    "Review_Summary = []\n",
    "for i in summary_tags:\n",
    "    Review_Summary.append(i.text)\n",
    "len(Review_Summary)\n",
    "Review_Summary"
   ]
  },
  {
   "cell_type": "code",
   "execution_count": 98,
   "id": "27d81a01",
   "metadata": {},
   "outputs": [
    {
     "data": {
      "text/plain": [
       "[<selenium.webdriver.remote.webelement.WebElement (session=\"fe94e874dbbaf87de65716c102709411\", element=\"7e1a8d3b-2130-4aee-9772-9141332487d1\")>,\n",
       " <selenium.webdriver.remote.webelement.WebElement (session=\"fe94e874dbbaf87de65716c102709411\", element=\"890a9913-9d55-4f6e-a060-77b46da4dfcf\")>]"
      ]
     },
     "execution_count": 98,
     "metadata": {},
     "output_type": "execute_result"
    }
   ],
   "source": [
    "review_tags = driver.find_elements_by_xpath('//div[@class=\"t-ZTKy\"]')\n",
    "len(review_tags)\n",
    "review_tags[0:2]"
   ]
  },
  {
   "cell_type": "code",
   "execution_count": 99,
   "id": "300e0631",
   "metadata": {},
   "outputs": [
    {
     "data": {
      "text/plain": [
       "['The Best Phone for the Money\\n\\nThe iPhone 11 offers superb cameras, a more durable design and excellent battery life for an affordable price.\\n\\nCompelling ultra-wide camera\\nNew Night mode is excellent\\nLong battery life',\n",
       " 'Really satisfied with the Product I received... It’s totally genuine and the packaging was also really good so if ur planning to buy just go for it.',\n",
       " 'Great iPhone very snappy experience as apple kind. Upgraded from iPhone 7.\\nPros\\n-Camera top class\\n- Battery top performed\\n-Chipset no need to say as apple kind\\n-Security as you expect from apple\\n- Display super bright industry leading colour\\naccuracy and super responsive\\n-Build quality as expect from apple sturdy\\npremium durable beautiful stylish.\\n-Os most stable os in smartphone industry\\n\\nCons\\n-No 5G\\n-Display is not based on OLED technology\\n-Charger headphones and 1 apple stic...\\nREAD MORE',\n",
       " 'Amazing phone with great cameras and better battery which gives you the best performance. I just love the camera .',\n",
       " 'This is my first iOS phone. I am very happy with this product. Very much satisfied with this. I love this phone.',\n",
       " 'Previously I was using one plus 3t it was a great phone\\nAnd then I decided to upgrade I am stuck between Samsung s10 plus or iPhone 11\\nI have seen the specs and everything were good except the display it’s somewhere between 720-1080 and it’s not even an amoled it’s an LCD display\\nBut I decided to go with iPhone because I have never used an IOS device I have Been an android user from the past 9 years I ordered IPhone 11 (128gb) product red\\nMy experience after using 3 weeks\\n1. The delivery ...\\nREAD MORE',\n",
       " 'Amazing Powerful and Durable Gadget.\\n\\nI’m am very happy with the camera picture quality, Amazing face id unlocked in dark room, Strong battery with perfect screen size as you can carry easily in pocket. This is my third iPhone.\\n\\nI shifted from android Samsung Note series to iPhone because of the strong build quality and peace of mind for next 3-4 years.\\n\\nDon’t think to much just go for it and I suggest you to go for minimum 128gb variant or more 256gb.\\n\\nI’ve attached my puppy pics and no fi...\\nREAD MORE',\n",
       " 'So far it’s been an AMAZING experience coming back to iOS after nearly a decade but it’s not as versatile as android though phone is sturdy dropped it accidentally a couple of times and nothing happened fortunately camera is awesome',\n",
       " 'What a camera .....just awesome ..you can feel this iPhone just awesome . Good for gaming also ...try pubg in hd it’s just wow',\n",
       " 'i11 is worthy to buy, too much happy with the product. Thank u flipkart I received the item on time..loved it..']"
      ]
     },
     "execution_count": 99,
     "metadata": {},
     "output_type": "execute_result"
    }
   ],
   "source": [
    "Review = []\n",
    "for i in review_tags:\n",
    "    Review.append(i.text)\n",
    "len(Review)\n",
    "Review"
   ]
  },
  {
   "cell_type": "markdown",
   "id": "0fc3822a",
   "metadata": {},
   "source": [
    "6. Scrape data for first 100 sneakers you find when you visit flipkart.com."
   ]
  },
  {
   "cell_type": "code",
   "execution_count": 100,
   "id": "8fe4071a",
   "metadata": {},
   "outputs": [],
   "source": [
    "driver=webdriver.Chrome('chromedriver.exe')"
   ]
  },
  {
   "cell_type": "code",
   "execution_count": 101,
   "id": "f5f0ed5c",
   "metadata": {},
   "outputs": [],
   "source": [
    "url='https://www.flipkart.com/'\n",
    "driver.get(url)"
   ]
  },
  {
   "cell_type": "code",
   "execution_count": 102,
   "id": "1edc81dc",
   "metadata": {},
   "outputs": [
    {
     "data": {
      "text/plain": [
       "<selenium.webdriver.remote.webelement.WebElement (session=\"c849a9cf2fc367441980e8c16aec1d56\", element=\"0b1185b0-5673-4c48-9712-f7dc286425dc\")>"
      ]
     },
     "execution_count": 102,
     "metadata": {},
     "output_type": "execute_result"
    }
   ],
   "source": [
    "search_item=driver.find_element_by_class_name(\"_3704LK\")\n",
    "search_item"
   ]
  },
  {
   "cell_type": "code",
   "execution_count": 103,
   "id": "cc762951",
   "metadata": {},
   "outputs": [],
   "source": [
    "search_item.send_keys(\"sneakers\")"
   ]
  },
  {
   "cell_type": "code",
   "execution_count": 104,
   "id": "88dc7fc4",
   "metadata": {},
   "outputs": [
    {
     "data": {
      "text/plain": [
       "<selenium.webdriver.remote.webelement.WebElement (session=\"c849a9cf2fc367441980e8c16aec1d56\", element=\"8052511a-f754-4cfe-8829-276f1b86ea0e\")>"
      ]
     },
     "execution_count": 104,
     "metadata": {},
     "output_type": "execute_result"
    }
   ],
   "source": [
    "search_icon=driver.find_element_by_class_name(\"L0Z3Pu\")\n",
    "search_icon"
   ]
  },
  {
   "cell_type": "code",
   "execution_count": 105,
   "id": "51f7d822",
   "metadata": {},
   "outputs": [],
   "source": [
    "search_icon.click()\n"
   ]
  },
  {
   "cell_type": "code",
   "execution_count": 106,
   "id": "8780587b",
   "metadata": {},
   "outputs": [
    {
     "data": {
      "text/plain": [
       "[<selenium.webdriver.remote.webelement.WebElement (session=\"c849a9cf2fc367441980e8c16aec1d56\", element=\"3c415958-1786-4996-88dc-5235e67345a4\")>,\n",
       " <selenium.webdriver.remote.webelement.WebElement (session=\"c849a9cf2fc367441980e8c16aec1d56\", element=\"0bdc938b-06bc-46b1-92f9-961db14b3d1d\")>]"
      ]
     },
     "execution_count": 106,
     "metadata": {},
     "output_type": "execute_result"
    }
   ],
   "source": [
    "brand_tags = driver.find_elements_by_xpath('//div[@class=\"_2WkVRV\"]')\n",
    "len(brand_tags)\n",
    "brand_tags[0:2]"
   ]
  },
  {
   "cell_type": "code",
   "execution_count": 108,
   "id": "b544e4a0",
   "metadata": {},
   "outputs": [
    {
     "data": {
      "text/plain": [
       "['Robbie jones',\n",
       " 'BIRDE',\n",
       " 'Magnolia',\n",
       " 'Chevit',\n",
       " 'TR',\n",
       " 'BRUTON',\n",
       " 'D-SNEAKERZ',\n",
       " 'BIRDE',\n",
       " 'Magnolia',\n",
       " 'KWIK FIT',\n",
       " 'World Wear Footwear',\n",
       " 'Robbie jones',\n",
       " 'Kraasa',\n",
       " 'URBANBOX',\n",
       " 'corsac',\n",
       " 'EMPTILE',\n",
       " 'World Wear Footwear',\n",
       " 'DUNKASTON',\n",
       " 'Shoes Bank',\n",
       " 'bacca bucci',\n",
       " 'aadi',\n",
       " 'luxury fashion',\n",
       " 'BRUTON',\n",
       " 'BRUTON',\n",
       " 'BRUTON',\n",
       " 'Rzisbo',\n",
       " 'SCATCHITE',\n",
       " 'BRUTON',\n",
       " 'Magnolia',\n",
       " 'Kraasa',\n",
       " 'BRUTON',\n",
       " 'Extoes',\n",
       " 'RapidBox',\n",
       " 'Kzaara',\n",
       " 'luxury fashion',\n",
       " 'KNIGHT WALKERS',\n",
       " 'Echor',\n",
       " 'BRUTON',\n",
       " 'Numenzo',\n",
       " 'PUMA']"
      ]
     },
     "execution_count": 108,
     "metadata": {},
     "output_type": "execute_result"
    }
   ],
   "source": [
    "Brand_Names = []\n",
    "for i in brand_tags:\n",
    "    Brand_Names.append(i.text)\n",
    "Brand_Names[0:40]"
   ]
  },
  {
   "cell_type": "code",
   "execution_count": 109,
   "id": "81718f8a",
   "metadata": {},
   "outputs": [
    {
     "data": {
      "text/plain": [
       "[<selenium.webdriver.remote.webelement.WebElement (session=\"c849a9cf2fc367441980e8c16aec1d56\", element=\"aea876f0-2d97-46af-ab63-e2fb270f0cd7\")>,\n",
       " <selenium.webdriver.remote.webelement.WebElement (session=\"c849a9cf2fc367441980e8c16aec1d56\", element=\"a28574b5-9760-4f35-9597-d71ab5399047\")>]"
      ]
     },
     "execution_count": 109,
     "metadata": {},
     "output_type": "execute_result"
    }
   ],
   "source": [
    "Product_tags = driver.find_elements_by_xpath('//a[@class=\"IRpwTa\"]')\n",
    "len(Product_tags)\n",
    "Product_tags[0:2]"
   ]
  },
  {
   "cell_type": "code",
   "execution_count": 110,
   "id": "22d74639",
   "metadata": {},
   "outputs": [
    {
     "data": {
      "text/plain": [
       "['Sneakers For Men',\n",
       " 'Stylish Comfortable Lightweight, Breathable Walking Sho...',\n",
       " 'Sneakers For Men',\n",
       " 'Super Stylish & Trendy Combo Pack of 02 Pairs Sneakers ...',\n",
       " 'Sneakers For Men',\n",
       " 'Modern Trendy Sneakers Shoes Sneakers For Men',\n",
       " \"Casual , Partywear Sneakers Shoes For Men's And Boys Wh...\",\n",
       " 'Stylish Comfortable Lightweight, Breathable Walking Sho...',\n",
       " 'Sneakers For Men',\n",
       " 'Kwik FIT casual sneaker shoes and partywear shoes Casua...',\n",
       " 'Sneakers For Men',\n",
       " 'Sneakers For Men',\n",
       " 'Series 7 Sneakers For Men',\n",
       " 'STYLISH MENS BLACK AND WHITE SNEAKER Sneakers For Men',\n",
       " 'all white heartbeat casual shoe Sneakers For Men',\n",
       " '5011-Latest Collection Stylish Casual Loafer Sneakers S...',\n",
       " 'Sneakers For Men',\n",
       " \"White Sneaker For Men's/Boy's Sneakers For Men\",\n",
       " 'Flat Hi-Top Casual Streetwear Fashion Sneakers With ext...',\n",
       " 'Sneakers For Men',\n",
       " 'Luxury Fashionable casual sneaker shoes Sneakers For Me...',\n",
       " 'Modern & Trendy Collection Combo Pack of 02 Shoes for M...',\n",
       " 'Combo Pack Of 3 Latest Casual Shoes Sneakers For Men',\n",
       " 'Combo Pack Of 4 Casual Shoes Loafer Shoes Sneakers For ...',\n",
       " 'Sneakers For Men',\n",
       " 'Sneakers For Men',\n",
       " 'Men Combo Pack of 2 Casual & Sneaker Shoes (Loafer Shoe...',\n",
       " 'Sneakers For Men',\n",
       " 'Shark-41 Sneakers For Men',\n",
       " 'Sneaker Sneakers For Men',\n",
       " 'Sneakers For Men',\n",
       " 'Sneakers For Men',\n",
       " 'Sneakers For Men',\n",
       " \"Men's Sneakers Fashion Lightweight Running Shoes Tennis...\",\n",
       " 'Lattest Sneakers Shoe Sneakers For Men',\n",
       " 'Sneakers For Men',\n",
       " 'Puma Smash v2 L Perf Puma White-Puma Whi Sneakers For M...']"
      ]
     },
     "execution_count": 110,
     "metadata": {},
     "output_type": "execute_result"
    }
   ],
   "source": [
    "Product_description = []\n",
    "for i in Product_tags:\n",
    "    Product_description.append(i.text)\n",
    "Product_description[0:40]"
   ]
  },
  {
   "cell_type": "code",
   "execution_count": 113,
   "id": "875ba3b9",
   "metadata": {},
   "outputs": [
    {
     "data": {
      "text/plain": [
       "[<selenium.webdriver.remote.webelement.WebElement (session=\"c849a9cf2fc367441980e8c16aec1d56\", element=\"14b12005-5160-49be-976a-928a3ed3cedc\")>,\n",
       " <selenium.webdriver.remote.webelement.WebElement (session=\"c849a9cf2fc367441980e8c16aec1d56\", element=\"8cc62c2f-f3dd-4b33-abda-a1fcd904bf02\")>]"
      ]
     },
     "execution_count": 113,
     "metadata": {},
     "output_type": "execute_result"
    }
   ],
   "source": [
    "Price_tags = driver.find_elements_by_xpath('//div[@class=\"_25b18c\"]')\n",
    "len(Price_tags)\n",
    "Price_tags[0:2]"
   ]
  },
  {
   "cell_type": "code",
   "execution_count": 114,
   "id": "90d9c266",
   "metadata": {},
   "outputs": [
    {
     "data": {
      "text/plain": [
       "['₹499₹99950% off',\n",
       " '₹399₹99960% off',\n",
       " '₹472₹99953% off',\n",
       " '₹649₹1,59859% off',\n",
       " '₹322₹99968% off',\n",
       " '₹259₹1,29980% off',\n",
       " '₹299₹65955% off',\n",
       " '₹399₹99960% off',\n",
       " '₹472₹99953% off',\n",
       " '₹399₹1,99980% off',\n",
       " '₹199₹49960% off',\n",
       " '₹499₹99950% off',\n",
       " '₹444₹99956% off',\n",
       " '₹198₹99980% off',\n",
       " '₹449₹1,49970% off',\n",
       " '₹397₹99960% off',\n",
       " '₹199₹49960% off',\n",
       " '₹319₹1,49979% off',\n",
       " '₹298₹99970% off',\n",
       " '₹1,683₹3,49952% off',\n",
       " '₹339₹99966% off',\n",
       " '₹449₹1,29965% off',\n",
       " '₹471₹2,49981% off',\n",
       " '₹447₹2,99985% off',\n",
       " '₹499₹3,49986% off',\n",
       " '₹494₹99951% off',\n",
       " '₹398₹99960% off',\n",
       " '₹377₹2,40084% off',\n",
       " '₹472₹99953% off',\n",
       " '₹444₹99956% off',\n",
       " '₹299₹1,29977% off',\n",
       " '₹849₹1,49743% off',\n",
       " '₹680₹99932% off',\n",
       " '₹259₹99974% off',\n",
       " '₹489₹1,99976% off',\n",
       " '₹569₹1,49962% off',\n",
       " '₹499₹99950% off',\n",
       " '₹299₹1,29977% off',\n",
       " '₹649₹2,99978% off',\n",
       " '₹2,799₹3,99930% off']"
      ]
     },
     "execution_count": 114,
     "metadata": {},
     "output_type": "execute_result"
    }
   ],
   "source": [
    "Product_price = []\n",
    "for i in Price_tags:\n",
    "    Product_price.append(i.text)\n",
    "Product_price[0:40]"
   ]
  },
  {
   "cell_type": "code",
   "execution_count": 117,
   "id": "5a5ea6e1",
   "metadata": {},
   "outputs": [
    {
     "data": {
      "text/plain": [
       "[<selenium.webdriver.remote.webelement.WebElement (session=\"c849a9cf2fc367441980e8c16aec1d56\", element=\"a3e7aa5a-e60f-4467-96e9-09b54a717b5c\")>,\n",
       " <selenium.webdriver.remote.webelement.WebElement (session=\"c849a9cf2fc367441980e8c16aec1d56\", element=\"104b1797-ab3f-4f7c-b012-26f4f5b81976\")>]"
      ]
     },
     "execution_count": 117,
     "metadata": {},
     "output_type": "execute_result"
    }
   ],
   "source": [
    "brand_tags = driver.find_elements_by_xpath('//div[@class=\"_2WkVRV\"]')\n",
    "len(brand_tags)\n",
    "brand_tags[0:2]"
   ]
  },
  {
   "cell_type": "code",
   "execution_count": 118,
   "id": "34702304",
   "metadata": {},
   "outputs": [
    {
     "data": {
      "text/plain": [
       "['Numenzo',\n",
       " 'India hub',\n",
       " 'BRUTON',\n",
       " 'DCKIES',\n",
       " 'Xtoon',\n",
       " 'Stefano Rads',\n",
       " 'Labbin',\n",
       " 'ERIX',\n",
       " 'India hub',\n",
       " 'CLYMB',\n",
       " 'World Wear Footwear',\n",
       " 'Robbie jones',\n",
       " 'Airland',\n",
       " 'Zsyto',\n",
       " 'World Wear Footwear',\n",
       " 'SCHWESCO',\n",
       " 'Elevarse',\n",
       " 'Chevit',\n",
       " 'PUMA',\n",
       " 'BRUTON',\n",
       " 'RAFTAR FASHION',\n",
       " 'Kraasa',\n",
       " 'BIRDE',\n",
       " 'BIRDE',\n",
       " 'Vellinto',\n",
       " 'Robbie jones',\n",
       " 'CLYMB',\n",
       " 'Robbie jones',\n",
       " 'Numenzo',\n",
       " 'CAMPUS',\n",
       " 'Robbie jones',\n",
       " 'EMPTILE',\n",
       " 'ASTEROID',\n",
       " 'ASIAN',\n",
       " 'Chevit',\n",
       " 'BRUTON',\n",
       " 'Robbie jones',\n",
       " 'Ktiz',\n",
       " 'ORICUM',\n",
       " 'bacca bucci']"
      ]
     },
     "execution_count": 118,
     "metadata": {},
     "output_type": "execute_result"
    }
   ],
   "source": [
    "Brand_Names = []\n",
    "for i in brand_tags:\n",
    "    Brand_Names.append(i.text)\n",
    "Brand_Names[0:40]"
   ]
  },
  {
   "cell_type": "code",
   "execution_count": 119,
   "id": "d2329c88",
   "metadata": {},
   "outputs": [
    {
     "data": {
      "text/plain": [
       "[<selenium.webdriver.remote.webelement.WebElement (session=\"c849a9cf2fc367441980e8c16aec1d56\", element=\"6a74d9e9-b5c9-419f-9abd-decee51b7a43\")>,\n",
       " <selenium.webdriver.remote.webelement.WebElement (session=\"c849a9cf2fc367441980e8c16aec1d56\", element=\"a58bb432-d94a-49d3-8ba4-0d488e462a97\")>]"
      ]
     },
     "execution_count": 119,
     "metadata": {},
     "output_type": "execute_result"
    }
   ],
   "source": [
    "Product_tags = driver.find_elements_by_xpath('//a[@class=\"IRpwTa\"]')\n",
    "len(Product_tags)\n",
    "Product_tags[0:2]"
   ]
  },
  {
   "cell_type": "code",
   "execution_count": 121,
   "id": "4942a586",
   "metadata": {},
   "outputs": [
    {
     "data": {
      "text/plain": [
       "['Sneakers For Men',\n",
       " 'Luxury Fashionable casual sneaker shoes Sneakers For Me...',\n",
       " 'Modern & Trendy Collection Combo Pack of 02 Shoes for M...',\n",
       " 'Sneakers For Men',\n",
       " \"white Casual shoes,Sneakers for men's Sneakers For Men\",\n",
       " 'Sneakers For Men',\n",
       " 'men and boys Fashion black and red color Outdoor Canvas...',\n",
       " 'casual sneaker shoes for men kardam&sons Sneakers For M...',\n",
       " 'Sneakers For Men',\n",
       " 'Men 5014 Latest Collection Stylish Casual Sports Loafer...',\n",
       " 'Sneakers For Men',\n",
       " 'sneaker men red 1258 - 6 Sneakers For Men',\n",
       " 'Latest Collection-1227 Stylish Casual Sports Sneakers F...',\n",
       " 'Sneakers For Men',\n",
       " '516 Trendy Star Perfect Sneakers For Men',\n",
       " 'RS-X WINTERIZED Sneakers For Men',\n",
       " 'Combo Pack Of 3 Latest Casual Shoes Sneakers For Men',\n",
       " 'Sneakers For Men',\n",
       " 'Casuals, Canvas, Partywear Sneakers For Men',\n",
       " 'Sports Running Shoes Sneakers For Men',\n",
       " 'Stylish Comfortable Lightweight, Breathable Walking Sho...',\n",
       " 'Casual Sneakrs For Men Sneakers For Men',\n",
       " 'Casual Sneakers White Shoes For Men Sneakers For Men',\n",
       " \"Perfect Sports Shoes for Men's Running ,Cycling & Trekk...\",\n",
       " 'Sneakers For Men',\n",
       " '411 Casual Sneakers For Men',\n",
       " 'Sneakers For Men',\n",
       " 'all white heartbeat casual shoe Sneakers For Men',\n",
       " 'Sneakers For Men',\n",
       " 'Skypy-31 Walking Shoes,Training Shoes,Sneakers,Loafers,...',\n",
       " 'Unique & Perfect Collection Combo Pack of 02 Shoes for ...',\n",
       " 'Men Pack of 2 Casual Sneakers For Men',\n",
       " 'Sneakers For Men',\n",
       " 'Sneakers For Men',\n",
       " 'Casual Sneakers Shoes for Men Pack of 5 Combo(O)-1667-3...',\n",
       " 'Flat Hi-Top Casual Streetwear Fashion Sneakers With ext...']"
      ]
     },
     "execution_count": 121,
     "metadata": {},
     "output_type": "execute_result"
    }
   ],
   "source": [
    "Product_description = []\n",
    "for i in Product_tags:\n",
    "    Product_description.append(i.text)\n",
    "Product_description[0:40]"
   ]
  },
  {
   "cell_type": "code",
   "execution_count": 122,
   "id": "42501341",
   "metadata": {},
   "outputs": [
    {
     "data": {
      "text/plain": [
       "[<selenium.webdriver.remote.webelement.WebElement (session=\"c849a9cf2fc367441980e8c16aec1d56\", element=\"820fec1e-184a-4b58-ab0e-87c855dd6830\")>,\n",
       " <selenium.webdriver.remote.webelement.WebElement (session=\"c849a9cf2fc367441980e8c16aec1d56\", element=\"953a4f4c-c2f5-400d-a3b4-a6ff303df896\")>]"
      ]
     },
     "execution_count": 122,
     "metadata": {},
     "output_type": "execute_result"
    }
   ],
   "source": [
    "Price_tags = driver.find_elements_by_xpath('//div[@class=\"_25b18c\"]')\n",
    "len(Price_tags)\n",
    "Price_tags[0:2]"
   ]
  },
  {
   "cell_type": "code",
   "execution_count": 123,
   "id": "5ae8163b",
   "metadata": {},
   "outputs": [
    {
     "data": {
      "text/plain": [
       "['₹649₹2,99978% off',\n",
       " '₹426₹1,99979% off',\n",
       " '₹536₹2,49979% off',\n",
       " '₹421₹99958% off',\n",
       " '₹479₹1,49968% off',\n",
       " '₹240₹69966% off',\n",
       " '₹499₹99950% off',\n",
       " '₹459₹1,49969% off',\n",
       " '₹449₹1,29965% off',\n",
       " '₹616₹1,49959% off',\n",
       " '₹259₹49948% off',\n",
       " '₹499₹99950% off',\n",
       " '₹198₹49960% off',\n",
       " '₹311₹1,29976% off',\n",
       " '₹259₹49948% off',\n",
       " '₹1,730₹9,99983% off',\n",
       " '₹399₹99960% off',\n",
       " '₹259₹79968% off',\n",
       " '₹4,140₹8,99954% off',\n",
       " '₹447₹2,99985% off',\n",
       " '₹699₹99930% off',\n",
       " '₹499₹99950% off',\n",
       " '₹299₹49940% off',\n",
       " '₹399₹99960% off',\n",
       " '₹711₹1,29945% off',\n",
       " '₹499₹99950% off',\n",
       " '₹249₹99975% off',\n",
       " '₹499₹99950% off',\n",
       " '₹474₹1,99976% off',\n",
       " '₹1,049₹1,89945% off',\n",
       " '₹499₹99950% off',\n",
       " '₹397₹99960% off',\n",
       " '₹474₹1,99976% off',\n",
       " '₹498₹79938% off',\n",
       " '₹499₹1,49867% off',\n",
       " '₹424₹2,49983% off',\n",
       " '₹499₹99950% off',\n",
       " '₹448₹99955% off',\n",
       " '₹935₹2,49563% off',\n",
       " '₹1,683₹3,49952% off']"
      ]
     },
     "execution_count": 123,
     "metadata": {},
     "output_type": "execute_result"
    }
   ],
   "source": [
    "Product_price = []\n",
    "for i in Price_tags:\n",
    "    Product_price.append(i.text)\n",
    "Product_price[0:40]"
   ]
  },
  {
   "cell_type": "code",
   "execution_count": 124,
   "id": "629955c2",
   "metadata": {},
   "outputs": [
    {
     "data": {
      "text/plain": [
       "[<selenium.webdriver.remote.webelement.WebElement (session=\"c849a9cf2fc367441980e8c16aec1d56\", element=\"f605e0a5-8b0e-4341-98c6-6b9d5c421304\")>,\n",
       " <selenium.webdriver.remote.webelement.WebElement (session=\"c849a9cf2fc367441980e8c16aec1d56\", element=\"7fe6af7e-0b8a-4403-a4ff-4f9442b6f844\")>]"
      ]
     },
     "execution_count": 124,
     "metadata": {},
     "output_type": "execute_result"
    }
   ],
   "source": [
    "brand_tags = driver.find_elements_by_xpath('//div[@class=\"_2WkVRV\"]')\n",
    "len(brand_tags)\n",
    "brand_tags[0:2]"
   ]
  },
  {
   "cell_type": "code",
   "execution_count": 125,
   "id": "f857a8d3",
   "metadata": {},
   "outputs": [
    {
     "data": {
      "text/plain": [
       "['Zorth',\n",
       " 'D-SNEAKERZ',\n",
       " 'Hot & Knot',\n",
       " 'BIRDE',\n",
       " 'Zorth',\n",
       " 'SWIGGY',\n",
       " 'Echor',\n",
       " 'KNIGHT WALKERS',\n",
       " 'KNIGHT WALKERS',\n",
       " 'SPARX',\n",
       " 'LE GREEM',\n",
       " 'PUMA',\n",
       " 'T-ROCK',\n",
       " 'Stinson',\n",
       " 'Dizzler',\n",
       " 'Numenzo',\n",
       " 'Bretton',\n",
       " 'DUNKASTON',\n",
       " 'CLYMB',\n",
       " 'HAKKEL']"
      ]
     },
     "execution_count": 125,
     "metadata": {},
     "output_type": "execute_result"
    }
   ],
   "source": [
    "Brand_Names = []\n",
    "for i in brand_tags:\n",
    "    Brand_Names.append(i.text)\n",
    "Brand_Names[0:20]"
   ]
  },
  {
   "cell_type": "code",
   "execution_count": 126,
   "id": "3662cdef",
   "metadata": {},
   "outputs": [
    {
     "data": {
      "text/plain": [
       "[<selenium.webdriver.remote.webelement.WebElement (session=\"c849a9cf2fc367441980e8c16aec1d56\", element=\"2c07c98a-103b-4685-89c2-99b6318c92a9\")>,\n",
       " <selenium.webdriver.remote.webelement.WebElement (session=\"c849a9cf2fc367441980e8c16aec1d56\", element=\"a43316ad-2a00-40f8-b810-29c3452d1fe1\")>]"
      ]
     },
     "execution_count": 126,
     "metadata": {},
     "output_type": "execute_result"
    }
   ],
   "source": [
    "Product_tags = driver.find_elements_by_xpath('//a[@class=\"IRpwTa\"]')\n",
    "len(Product_tags)\n",
    "Product_tags[0:2]"
   ]
  },
  {
   "cell_type": "code",
   "execution_count": 127,
   "id": "509ed84b",
   "metadata": {},
   "outputs": [
    {
     "data": {
      "text/plain": [
       "['New Fashion Outdoor Trendy Lightweight Casual,Canvas St...',\n",
       " \"Casual , Partywear Sneakers Shoes For Men's And Boys Wh...\",\n",
       " 'High Top Casual Party Wear Boot Stylish Sneakers For Me...',\n",
       " 'Stylish Comfortable Lightweight, Breathable Walking Sho...',\n",
       " 'Sneakers For Men',\n",
       " 'casual sneakers shoes For Mens Multicolor Combo(MR)-179...',\n",
       " \"Men's Sneakers Fashion Lightweight Running Shoes Tennis...\",\n",
       " 'Sneakers For Men',\n",
       " 'Sneakers For Men',\n",
       " 'Comfortable & Ultra Light Weight Sneaker Sneakers For M...',\n",
       " 'Puma Smash v2 L Perf Puma White-Puma Whi Sneakers For M...',\n",
       " 'Stylish White Casual Sneakers shoes Men and Boys Sneake...',\n",
       " 'Sneakers For Men',\n",
       " 'Sneakers For Men',\n",
       " 'Sneakers For Men',\n",
       " 'Sneakers For Men',\n",
       " 'HAKKEL SNEAKER WHITE H143 Sneakers For Men',\n",
       " 'casual for men Sneakers For Men',\n",
       " 'Sneakers For Men',\n",
       " 'Fashionable sneaker shoes Sneakers For Men']"
      ]
     },
     "execution_count": 127,
     "metadata": {},
     "output_type": "execute_result"
    }
   ],
   "source": [
    "Product_description = []\n",
    "for i in Product_tags:\n",
    "    Product_description.append(i.text)\n",
    "Product_description[0:20]"
   ]
  },
  {
   "cell_type": "code",
   "execution_count": 128,
   "id": "0759c5b8",
   "metadata": {},
   "outputs": [
    {
     "data": {
      "text/plain": [
       "[<selenium.webdriver.remote.webelement.WebElement (session=\"c849a9cf2fc367441980e8c16aec1d56\", element=\"186752fc-e6ab-4852-954a-be7b25e36b5e\")>,\n",
       " <selenium.webdriver.remote.webelement.WebElement (session=\"c849a9cf2fc367441980e8c16aec1d56\", element=\"22fa6c87-7425-4831-9394-9d0bfab799ca\")>]"
      ]
     },
     "execution_count": 128,
     "metadata": {},
     "output_type": "execute_result"
    }
   ],
   "source": [
    "Price_tags = driver.find_elements_by_xpath('//div[@class=\"_25b18c\"]')\n",
    "len(Price_tags)\n",
    "Price_tags[0:2]"
   ]
  },
  {
   "cell_type": "code",
   "execution_count": 129,
   "id": "a36cd172",
   "metadata": {},
   "outputs": [
    {
     "data": {
      "text/plain": [
       "['₹435₹99956% off',\n",
       " '₹384₹99962% off',\n",
       " '₹589₹99941% off',\n",
       " '₹399₹99960% off',\n",
       " '₹447₹99955% off',\n",
       " '₹630₹99837% off',\n",
       " '₹499₹99950% off',\n",
       " '₹569₹1,49962% off',\n",
       " '₹569₹1,49962% off',\n",
       " '₹849',\n",
       " '₹449₹99955% off',\n",
       " '₹2,799₹3,99930% off',\n",
       " '₹399₹99960% off',\n",
       " '₹259₹49948% off',\n",
       " '₹495₹71931% off',\n",
       " '₹426₹99957% off',\n",
       " '₹251₹1,99987% off',\n",
       " '₹386₹1,49974% off',\n",
       " '₹616₹1,49959% off',\n",
       " '₹607₹1,39957% off']"
      ]
     },
     "execution_count": 129,
     "metadata": {},
     "output_type": "execute_result"
    }
   ],
   "source": [
    "Product_price = []\n",
    "for i in Price_tags:\n",
    "    Product_price.append(i.text)\n",
    "Product_price[0:20]"
   ]
  },
  {
   "cell_type": "markdown",
   "id": "6fea80e8",
   "metadata": {},
   "source": [
    "7. Scrape First 100 shoes from Myntra.com"
   ]
  },
  {
   "cell_type": "code",
   "execution_count": 83,
   "id": "80be1bad",
   "metadata": {},
   "outputs": [],
   "source": [
    "driver=webdriver.Chrome('chromedriver.exe')"
   ]
  },
  {
   "cell_type": "code",
   "execution_count": 90,
   "id": "3e868bae",
   "metadata": {},
   "outputs": [],
   "source": [
    "url='https://www.myntra.com/shoes'\n",
    "driver.get(url)"
   ]
  },
  {
   "cell_type": "code",
   "execution_count": 93,
   "id": "0d3322e7",
   "metadata": {},
   "outputs": [
    {
     "data": {
      "text/plain": [
       "[<selenium.webdriver.remote.webelement.WebElement (session=\"144b80bd8db8233c803db04783a44f9c\", element=\"95b5e99a-5f02-42af-b986-95ecea0612cc\")>,\n",
       " <selenium.webdriver.remote.webelement.WebElement (session=\"144b80bd8db8233c803db04783a44f9c\", element=\"01ac562d-ff1b-458a-b663-c2c26e789236\")>]"
      ]
     },
     "execution_count": 93,
     "metadata": {},
     "output_type": "execute_result"
    }
   ],
   "source": [
    "brand_tags = driver.find_elements_by_xpath('//h3[@class=\"product-brand\"]')\n",
    "len(brand_tags)\n",
    "brand_tags[0:2]"
   ]
  },
  {
   "cell_type": "code",
   "execution_count": 95,
   "id": "004c0551",
   "metadata": {},
   "outputs": [
    {
     "data": {
      "text/plain": [
       "['ALDO',\n",
       " 'Nike',\n",
       " 'Puma',\n",
       " 'Tommy Hilfiger',\n",
       " 'Puma',\n",
       " 'Hush Puppies',\n",
       " 'ALDO',\n",
       " 'ALDO',\n",
       " 'Puma',\n",
       " 'Puma',\n",
       " 'Nike',\n",
       " 'Puma',\n",
       " 'Hush Puppies',\n",
       " 'Hush Puppies',\n",
       " 'Puma',\n",
       " 'Hush Puppies',\n",
       " 'Clarks',\n",
       " 'Hush Puppies',\n",
       " 'Columbia',\n",
       " 'Saint G',\n",
       " 'Clarks',\n",
       " 'ASICS',\n",
       " 'J.FONTINI',\n",
       " 'J.FONTINI',\n",
       " 'Hush Puppies',\n",
       " 'ALDO',\n",
       " 'DAVINCHI',\n",
       " 'TRIBAN By Decathlon',\n",
       " 'Clarks',\n",
       " 'Saint G',\n",
       " 'Geox',\n",
       " 'Geox',\n",
       " 'RARE RABBIT',\n",
       " 'DAVINCHI',\n",
       " 'ALDO',\n",
       " 'Saint G',\n",
       " 'Geox',\n",
       " 'Saint G',\n",
       " 'Sole To Soul',\n",
       " 'Sole To Soul',\n",
       " 'Sole To Soul',\n",
       " 'ROSSO BRUNELLO',\n",
       " 'FILA',\n",
       " 'Sole To Soul',\n",
       " 'ROSSO BRUNELLO',\n",
       " 'Clarks',\n",
       " 'Clarks',\n",
       " 'New Balance',\n",
       " 'Columbia',\n",
       " 'Columbia']"
      ]
     },
     "execution_count": 95,
     "metadata": {},
     "output_type": "execute_result"
    }
   ],
   "source": [
    "Brand_names = []\n",
    "for i in brand_tags:\n",
    "    Brand_names.append(i.text)\n",
    "len(Brand_names)\n",
    "Brand_names[0:100]"
   ]
  },
  {
   "cell_type": "code",
   "execution_count": 113,
   "id": "5d6f9bae",
   "metadata": {},
   "outputs": [
    {
     "data": {
      "text/plain": [
       "[<selenium.webdriver.remote.webelement.WebElement (session=\"144b80bd8db8233c803db04783a44f9c\", element=\"41cbde7a-766d-4b0d-bbc3-1e4620a3771d\")>,\n",
       " <selenium.webdriver.remote.webelement.WebElement (session=\"144b80bd8db8233c803db04783a44f9c\", element=\"19022462-0d46-4570-b8ac-aba419520b5d\")>]"
      ]
     },
     "execution_count": 113,
     "metadata": {},
     "output_type": "execute_result"
    }
   ],
   "source": [
    "shoe_tags = driver.find_elements_by_xpath('//h4[@class=\"product-product\"]')\n",
    "len(shoe_tags)\n",
    "shoe_tags[0:2]"
   ]
  },
  {
   "cell_type": "code",
   "execution_count": 109,
   "id": "32af2a94",
   "metadata": {},
   "outputs": [
    {
     "data": {
      "text/plain": [
       "['Men Printed Sneakers',\n",
       " 'Men Winflo 7 Running Shoes',\n",
       " 'Eternity Nitro Running Shoes',\n",
       " 'Men Cleated Leather Sneakers',\n",
       " 'Electrify Nitro Running Shoes',\n",
       " 'Men Solid Leather Formal Slip-Ons',\n",
       " 'Men Leather Driving Shoes',\n",
       " 'Men Woven Design Sneakers',\n",
       " 'Men Jamming 2.0 Running Shoes',\n",
       " 'Men Training or Gym Shoes',\n",
       " 'Men Air Max Dawn Sneakers',\n",
       " 'Women Eternity NITRO Shoes',\n",
       " 'Men Solid Leather Formal Slip-Ons',\n",
       " 'Men Formal Derbys',\n",
       " 'Women Velocity NITRO Runners',\n",
       " 'Men Solid Leather Formal Derbys',\n",
       " 'Men Solid Formal Leather Derbys',\n",
       " 'Men Solid Formal Slip-Ons',\n",
       " 'Men FACET OUTDRY Trekking Shoe',\n",
       " 'Men Mid-Top Chelsea Boots',\n",
       " 'Men Solid Leather Formal Loafers',\n",
       " 'Women Running Shoes',\n",
       " 'Men Solid Loafers',\n",
       " 'Men Black Leather Loafers',\n",
       " 'Men Perforations Leather Slip-On Sneakers',\n",
       " 'Wedge Sandals',\n",
       " 'Men Textured Formal Leather Loafers',\n",
       " 'Unisex Training or Gym Shoes',\n",
       " 'Men Leather Derbys',\n",
       " 'Women Leather Block Heels',\n",
       " 'Men Leather Loafers',\n",
       " 'Men Formal Derbys',\n",
       " 'Men Leather Flat Boots',\n",
       " 'Men Formal Leather Slip-Ons',\n",
       " 'Leather Slim Heels',\n",
       " 'Leather Block Heeled Boots',\n",
       " 'Women Leather Pumps',\n",
       " 'Striped Suede Flatform Heeled Boots',\n",
       " 'Women Block Heeled Boots',\n",
       " 'High-Top Block Heeled Boots',\n",
       " 'Suede High-Top Block Heeled Boots',\n",
       " 'Printed PU Kitten Sandals',\n",
       " 'Women Leather Sneakers',\n",
       " 'High-Top Platform Heeled Boots',\n",
       " 'PU Block Pumps with Buckles',\n",
       " 'Leather Slip-On Ballerinas',\n",
       " 'Women Solid Leather Ballerina',\n",
       " 'Women Woven Running Shoes',\n",
       " 'PEAKFREAK XCRSN Trekking Shoe',\n",
       " 'Women REDMOND V2 TrekkingShoe']"
      ]
     },
     "execution_count": 109,
     "metadata": {},
     "output_type": "execute_result"
    }
   ],
   "source": [
    "Shoes_Description = []\n",
    "for i in shoe_tags:\n",
    "    Shoes_Description.append(i.text)\n",
    "len(Shoes_Description)\n",
    "Shoes_Description[:100]"
   ]
  },
  {
   "cell_type": "code",
   "execution_count": 114,
   "id": "e6fb001d",
   "metadata": {},
   "outputs": [
    {
     "data": {
      "text/plain": [
       "[<selenium.webdriver.remote.webelement.WebElement (session=\"144b80bd8db8233c803db04783a44f9c\", element=\"e98f93a9-b345-4d8b-81d1-517e6bbc1be3\")>,\n",
       " <selenium.webdriver.remote.webelement.WebElement (session=\"144b80bd8db8233c803db04783a44f9c\", element=\"6f70730c-87ac-4bec-84f8-f271481ae7da\")>]"
      ]
     },
     "execution_count": 114,
     "metadata": {},
     "output_type": "execute_result"
    }
   ],
   "source": [
    "Price_tags = driver.find_elements_by_xpath('//span[@class=\"product-discountedPrice\"]')\n",
    "len(Price_tags)\n",
    "Price_tags[0:2]"
   ]
  },
  {
   "cell_type": "code",
   "execution_count": 111,
   "id": "85829a31",
   "metadata": {},
   "outputs": [
    {
     "data": {
      "text/plain": [
       "['Rs. 9099',\n",
       " 'Rs. 7649',\n",
       " 'Rs. 9099',\n",
       " 'Rs. 8499',\n",
       " 'Rs. 8499',\n",
       " 'Rs. 7149',\n",
       " 'Rs. 8499',\n",
       " 'Rs. 8499',\n",
       " 'Rs. 10500',\n",
       " 'Rs. 8029',\n",
       " 'Rs. 7480',\n",
       " 'Rs. 8099',\n",
       " 'Rs. 8399',\n",
       " 'Rs. 9265',\n",
       " 'Rs. 8415',\n",
       " 'Rs. 7649',\n",
       " 'Rs. 7199',\n",
       " 'Rs. 7149']"
      ]
     },
     "execution_count": 111,
     "metadata": {},
     "output_type": "execute_result"
    }
   ],
   "source": [
    "Shoes_Description = []\n",
    "for i in Price_tags:\n",
    "    Shoes_Description.append(i.text)\n",
    "len(Shoes_Description)\n",
    "Shoes_Description[:100]"
   ]
  },
  {
   "cell_type": "markdown",
   "id": "c0c43881",
   "metadata": {},
   "source": [
    "8. Program to scrape data from Amazon."
   ]
  },
  {
   "cell_type": "code",
   "execution_count": 14,
   "id": "9a3aecbd",
   "metadata": {},
   "outputs": [],
   "source": [
    "driver=webdriver.Chrome('chromedriver.exe')"
   ]
  },
  {
   "cell_type": "code",
   "execution_count": 15,
   "id": "3053fa74",
   "metadata": {},
   "outputs": [],
   "source": [
    "url='https://www.amazon.in/'\n",
    "driver.get(url)"
   ]
  },
  {
   "cell_type": "code",
   "execution_count": 16,
   "id": "fd859561",
   "metadata": {},
   "outputs": [
    {
     "data": {
      "text/plain": [
       "<selenium.webdriver.remote.webelement.WebElement (session=\"c69869766885df57cf81417e671e6db9\", element=\"00d677fc-fffc-4b11-ba05-01161152e49a\")>"
      ]
     },
     "execution_count": 16,
     "metadata": {},
     "output_type": "execute_result"
    }
   ],
   "source": [
    "search_bar = driver.find_element_by_id(\"twotabsearchtextbox\") \n",
    "search_bar"
   ]
  },
  {
   "cell_type": "code",
   "execution_count": 17,
   "id": "12c77c37",
   "metadata": {},
   "outputs": [],
   "source": [
    "search_bar.send_keys(\"laptops\")"
   ]
  },
  {
   "cell_type": "code",
   "execution_count": 18,
   "id": "1c1adf00",
   "metadata": {},
   "outputs": [
    {
     "data": {
      "text/plain": [
       "<selenium.webdriver.remote.webelement.WebElement (session=\"c69869766885df57cf81417e671e6db9\", element=\"6e3c7bbd-dbde-4ddd-8633-f30290b626da\")>"
      ]
     },
     "execution_count": 18,
     "metadata": {},
     "output_type": "execute_result"
    }
   ],
   "source": [
    "search_icon=driver.find_element_by_xpath('//*[@id=\"nav-search-submit-button\"]')\n",
    "search_icon"
   ]
  },
  {
   "cell_type": "code",
   "execution_count": 19,
   "id": "73afa098",
   "metadata": {},
   "outputs": [],
   "source": [
    "search_icon.click()"
   ]
  },
  {
   "cell_type": "code",
   "execution_count": 20,
   "id": "34ad128c",
   "metadata": {},
   "outputs": [
    {
     "data": {
      "text/plain": [
       "[<selenium.webdriver.remote.webelement.WebElement (session=\"c69869766885df57cf81417e671e6db9\", element=\"2b590dac-b0a0-4eb8-a900-6d855c3e5bb0\")>,\n",
       " <selenium.webdriver.remote.webelement.WebElement (session=\"c69869766885df57cf81417e671e6db9\", element=\"6d709c95-aea8-4eaa-8036-aa35f97fcda9\")>]"
      ]
     },
     "execution_count": 20,
     "metadata": {},
     "output_type": "execute_result"
    }
   ],
   "source": [
    "#Intel Core i9 \n",
    "title_tags = driver.find_elements_by_xpath('//span[@class=\"a-size-medium a-color-base a-text-normal\"]')\n",
    "title_tags[0:2]"
   ]
  },
  {
   "cell_type": "code",
   "execution_count": 21,
   "id": "5930b59a",
   "metadata": {},
   "outputs": [
    {
     "data": {
      "text/plain": [
       "['HP Pavilion 14,11th Gen Intel Core i5 16GB RAM/512GB SSD 14 inch(35.6 cm),FHD IPS Anti-Glare Display/Intel Iris Xe Graphics/Backlit KB/B&O Audio/FPR/Win 11/Thin & Light/1.41kg, 14-dv1001TU',\n",
       " 'Dell 14 (2021) Ryzen 5-3450U, 8GB, 256GB SSD, Win 11 + MS Office\\'21, AMD Vega Graphics, 14\" (35.56 cms) FHD Display, Accent Black (Vostro 3405, D552233WIN9BE)',\n",
       " 'ASUS VivoBook 15 (2021), 15.6-inch (39.62 cm) HD, Dual Core Intel Celeron N4020, Thin and Light Laptop (4GB RAM/256GB SSD/Integrated Graphics/Windows 11 Home/Transparent Silver/1.8 Kg), X515MA-BR011W',\n",
       " 'Samsung Galaxy Book2 360 Intel 12th Gen i5 EvoTM  13.3 inch AMOLED Thin & Light Laptop (16 GB/512 GB SSD/Windows 11/MS Office /Dark Gray/0.87Kg), NP730QED-KA2IN',\n",
       " \"Lenovo IdeaPad 3 Intel Celeron N4020 14'' HD Thin & Light Laptop (4GB/256GB HDD/Windows 11/MS Office 2021/Platinum Grey/1.5Kg), 81WH007KIN\",\n",
       " 'LG Gram 14 Intel Evo 11th Gen Core i7 14 inches Ultralight Laptop (16 GB RAM, 512 GB SSD, Windows 10, Iris Xe Graphics Thunderbolt 4, USC -Cx2 (with Power), 0.999kg, 14Z90P, Black)',\n",
       " 'HP 15s 11th Gen Intel Core i5 15.6 inches FHD Anti-Glare Display Laptop (8GB RAM/512GB SSD Micro-Edge/Iris Xe Graphics/Backlit Keyboard/Windows 11/Alexa/Dual Speakers/MS Office, 15s- fq4021TU, 1.69Kg)',\n",
       " 'HP 15- AMD Ryzen 3-3250 15.6 inch(39.6 cm) FHD,Thin & Light Laptop (8 GB RAM/1TB HDD + 256GB SSD/Windows 10/MS Office) 1.82kg (15s-gr0012AU), Silver',\n",
       " 'ASUS VivoBook 14 (2021), Intel Core i3-1115G4 11th Gen, 14-inch (35.56 cms) FHD Thin and Light Laptop (8GB/256GB SSD/Office 2021/Windows 11/Integrated Graphics/Silver/1.6 Kg), X415EA-EK342WS',\n",
       " 'HP 15, 11th Gen Intel Core i5-8GB RAM/512GB SSD 15.6 inches Laptop, FHD, IPS, Micro-Edge, Anti-Glare Display/Intel Iris Xe Graphics/Alexa Built- in/Windows 11 Home/1.75kg, 15s-du3517TU']"
      ]
     },
     "execution_count": 21,
     "metadata": {},
     "output_type": "execute_result"
    }
   ],
   "source": [
    "Title_Names = []\n",
    "for i in title_tags:\n",
    "    Title_Names.append(i.text)\n",
    "Title_Names[0:10]"
   ]
  },
  {
   "cell_type": "code",
   "execution_count": 30,
   "id": "02c82ad5",
   "metadata": {},
   "outputs": [
    {
     "ename": "InvalidSelectorException",
     "evalue": "Message: invalid selector: An invalid or illegal selector was specified\n  (Session info: chrome=99.0.4844.74)\nStacktrace:\nBacktrace:\n\tOrdinal0 [0x00F19943+2595139]\n\tOrdinal0 [0x00EAC9F1+2148849]\n\tOrdinal0 [0x00DA4528+1066280]\n\tOrdinal0 [0x00DA6E04+1076740]\n\tOrdinal0 [0x00DA6CBE+1076414]\n\tOrdinal0 [0x00DA6F50+1077072]\n\tOrdinal0 [0x00DD0D1E+1248542]\n\tOrdinal0 [0x00DD11CB+1249739]\n\tOrdinal0 [0x00DFD84C+1431628]\n\tOrdinal0 [0x00DEBA34+1358388]\n\tOrdinal0 [0x00DFBAF2+1424114]\n\tOrdinal0 [0x00DEB806+1357830]\n\tOrdinal0 [0x00DC6086+1204358]\n\tOrdinal0 [0x00DC6F96+1208214]\n\tGetHandleVerifier [0x010BB232+1658114]\n\tGetHandleVerifier [0x0117312C+2411516]\n\tGetHandleVerifier [0x00FAF261+560433]\n\tGetHandleVerifier [0x00FAE366+556598]\n\tOrdinal0 [0x00EB286B+2173035]\n\tOrdinal0 [0x00EB75F8+2192888]\n\tOrdinal0 [0x00EB76E5+2193125]\n\tOrdinal0 [0x00EC11FC+2232828]\n\tBaseThreadInitThunk [0x7721FA29+25]\n\tRtlGetAppContainerNamedObjectPath [0x778B7A7E+286]\n\tRtlGetAppContainerNamedObjectPath [0x778B7A4E+238]\n",
     "output_type": "error",
     "traceback": [
      "\u001b[1;31m---------------------------------------------------------------------------\u001b[0m",
      "\u001b[1;31mInvalidSelectorException\u001b[0m                  Traceback (most recent call last)",
      "\u001b[1;32m<ipython-input-30-483ac061bab9>\u001b[0m in \u001b[0;36m<module>\u001b[1;34m\u001b[0m\n\u001b[1;32m----> 1\u001b[1;33m \u001b[0mrating_tags\u001b[0m \u001b[1;33m=\u001b[0m \u001b[0mdriver\u001b[0m\u001b[1;33m.\u001b[0m\u001b[0mfind_elements_by_css_selector\u001b[0m\u001b[1;33m(\u001b[0m\u001b[1;34m\"[class=a-icon a-icon-star-small a-star-small-4-5 aok-align-bottom]\"\u001b[0m\u001b[1;33m)\u001b[0m\u001b[1;33m\u001b[0m\u001b[1;33m\u001b[0m\u001b[0m\n\u001b[0m\u001b[0;32m      2\u001b[0m \u001b[0mrating_tags\u001b[0m\u001b[1;33m[\u001b[0m\u001b[1;36m0\u001b[0m\u001b[1;33m:\u001b[0m\u001b[1;36m2\u001b[0m\u001b[1;33m]\u001b[0m\u001b[1;33m\u001b[0m\u001b[1;33m\u001b[0m\u001b[0m\n",
      "\u001b[1;32mC:\\ProgramData\\Anaconda3\\lib\\site-packages\\selenium\\webdriver\\remote\\webdriver.py\u001b[0m in \u001b[0;36mfind_elements_by_css_selector\u001b[1;34m(self, css_selector)\u001b[0m\n\u001b[0;32m    830\u001b[0m             \u001b[0mstacklevel\u001b[0m\u001b[1;33m=\u001b[0m\u001b[1;36m2\u001b[0m\u001b[1;33m,\u001b[0m\u001b[1;33m\u001b[0m\u001b[1;33m\u001b[0m\u001b[0m\n\u001b[0;32m    831\u001b[0m         )\n\u001b[1;32m--> 832\u001b[1;33m         \u001b[1;32mreturn\u001b[0m \u001b[0mself\u001b[0m\u001b[1;33m.\u001b[0m\u001b[0mfind_elements\u001b[0m\u001b[1;33m(\u001b[0m\u001b[0mby\u001b[0m\u001b[1;33m=\u001b[0m\u001b[0mBy\u001b[0m\u001b[1;33m.\u001b[0m\u001b[0mCSS_SELECTOR\u001b[0m\u001b[1;33m,\u001b[0m \u001b[0mvalue\u001b[0m\u001b[1;33m=\u001b[0m\u001b[0mcss_selector\u001b[0m\u001b[1;33m)\u001b[0m\u001b[1;33m\u001b[0m\u001b[1;33m\u001b[0m\u001b[0m\n\u001b[0m\u001b[0;32m    833\u001b[0m \u001b[1;33m\u001b[0m\u001b[0m\n\u001b[0;32m    834\u001b[0m     \u001b[1;32mdef\u001b[0m \u001b[0mpin_script\u001b[0m\u001b[1;33m(\u001b[0m\u001b[0mself\u001b[0m\u001b[1;33m,\u001b[0m \u001b[0mscript\u001b[0m\u001b[1;33m,\u001b[0m \u001b[0mscript_key\u001b[0m\u001b[1;33m=\u001b[0m\u001b[1;32mNone\u001b[0m\u001b[1;33m)\u001b[0m \u001b[1;33m->\u001b[0m \u001b[0mScriptKey\u001b[0m\u001b[1;33m:\u001b[0m\u001b[1;33m\u001b[0m\u001b[1;33m\u001b[0m\u001b[0m\n",
      "\u001b[1;32mC:\\ProgramData\\Anaconda3\\lib\\site-packages\\selenium\\webdriver\\remote\\webdriver.py\u001b[0m in \u001b[0;36mfind_elements\u001b[1;34m(self, by, value)\u001b[0m\n\u001b[0;32m   1281\u001b[0m         \u001b[1;31m# Return empty list if driver returns null\u001b[0m\u001b[1;33m\u001b[0m\u001b[1;33m\u001b[0m\u001b[1;33m\u001b[0m\u001b[0m\n\u001b[0;32m   1282\u001b[0m         \u001b[1;31m# See https://github.com/SeleniumHQ/selenium/issues/4555\u001b[0m\u001b[1;33m\u001b[0m\u001b[1;33m\u001b[0m\u001b[1;33m\u001b[0m\u001b[0m\n\u001b[1;32m-> 1283\u001b[1;33m         return self.execute(Command.FIND_ELEMENTS, {\n\u001b[0m\u001b[0;32m   1284\u001b[0m             \u001b[1;34m'using'\u001b[0m\u001b[1;33m:\u001b[0m \u001b[0mby\u001b[0m\u001b[1;33m,\u001b[0m\u001b[1;33m\u001b[0m\u001b[1;33m\u001b[0m\u001b[0m\n\u001b[0;32m   1285\u001b[0m             'value': value})['value'] or []\n",
      "\u001b[1;32mC:\\ProgramData\\Anaconda3\\lib\\site-packages\\selenium\\webdriver\\remote\\webdriver.py\u001b[0m in \u001b[0;36mexecute\u001b[1;34m(self, driver_command, params)\u001b[0m\n\u001b[0;32m    423\u001b[0m         \u001b[0mresponse\u001b[0m \u001b[1;33m=\u001b[0m \u001b[0mself\u001b[0m\u001b[1;33m.\u001b[0m\u001b[0mcommand_executor\u001b[0m\u001b[1;33m.\u001b[0m\u001b[0mexecute\u001b[0m\u001b[1;33m(\u001b[0m\u001b[0mdriver_command\u001b[0m\u001b[1;33m,\u001b[0m \u001b[0mparams\u001b[0m\u001b[1;33m)\u001b[0m\u001b[1;33m\u001b[0m\u001b[1;33m\u001b[0m\u001b[0m\n\u001b[0;32m    424\u001b[0m         \u001b[1;32mif\u001b[0m \u001b[0mresponse\u001b[0m\u001b[1;33m:\u001b[0m\u001b[1;33m\u001b[0m\u001b[1;33m\u001b[0m\u001b[0m\n\u001b[1;32m--> 425\u001b[1;33m             \u001b[0mself\u001b[0m\u001b[1;33m.\u001b[0m\u001b[0merror_handler\u001b[0m\u001b[1;33m.\u001b[0m\u001b[0mcheck_response\u001b[0m\u001b[1;33m(\u001b[0m\u001b[0mresponse\u001b[0m\u001b[1;33m)\u001b[0m\u001b[1;33m\u001b[0m\u001b[1;33m\u001b[0m\u001b[0m\n\u001b[0m\u001b[0;32m    426\u001b[0m             response['value'] = self._unwrap_value(\n\u001b[0;32m    427\u001b[0m                 response.get('value', None))\n",
      "\u001b[1;32mC:\\ProgramData\\Anaconda3\\lib\\site-packages\\selenium\\webdriver\\remote\\errorhandler.py\u001b[0m in \u001b[0;36mcheck_response\u001b[1;34m(self, response)\u001b[0m\n\u001b[0;32m    245\u001b[0m                 \u001b[0malert_text\u001b[0m \u001b[1;33m=\u001b[0m \u001b[0mvalue\u001b[0m\u001b[1;33m[\u001b[0m\u001b[1;34m'alert'\u001b[0m\u001b[1;33m]\u001b[0m\u001b[1;33m.\u001b[0m\u001b[0mget\u001b[0m\u001b[1;33m(\u001b[0m\u001b[1;34m'text'\u001b[0m\u001b[1;33m)\u001b[0m\u001b[1;33m\u001b[0m\u001b[1;33m\u001b[0m\u001b[0m\n\u001b[0;32m    246\u001b[0m             \u001b[1;32mraise\u001b[0m \u001b[0mexception_class\u001b[0m\u001b[1;33m(\u001b[0m\u001b[0mmessage\u001b[0m\u001b[1;33m,\u001b[0m \u001b[0mscreen\u001b[0m\u001b[1;33m,\u001b[0m \u001b[0mstacktrace\u001b[0m\u001b[1;33m,\u001b[0m \u001b[0malert_text\u001b[0m\u001b[1;33m)\u001b[0m  \u001b[1;31m# type: ignore[call-arg]  # mypy is not smart enough here\u001b[0m\u001b[1;33m\u001b[0m\u001b[1;33m\u001b[0m\u001b[0m\n\u001b[1;32m--> 247\u001b[1;33m         \u001b[1;32mraise\u001b[0m \u001b[0mexception_class\u001b[0m\u001b[1;33m(\u001b[0m\u001b[0mmessage\u001b[0m\u001b[1;33m,\u001b[0m \u001b[0mscreen\u001b[0m\u001b[1;33m,\u001b[0m \u001b[0mstacktrace\u001b[0m\u001b[1;33m)\u001b[0m\u001b[1;33m\u001b[0m\u001b[1;33m\u001b[0m\u001b[0m\n\u001b[0m\u001b[0;32m    248\u001b[0m \u001b[1;33m\u001b[0m\u001b[0m\n\u001b[0;32m    249\u001b[0m     \u001b[1;32mdef\u001b[0m \u001b[0m_value_or_default\u001b[0m\u001b[1;33m(\u001b[0m\u001b[0mself\u001b[0m\u001b[1;33m,\u001b[0m \u001b[0mobj\u001b[0m\u001b[1;33m:\u001b[0m \u001b[0mMapping\u001b[0m\u001b[1;33m[\u001b[0m\u001b[0m_KT\u001b[0m\u001b[1;33m,\u001b[0m \u001b[0m_VT\u001b[0m\u001b[1;33m]\u001b[0m\u001b[1;33m,\u001b[0m \u001b[0mkey\u001b[0m\u001b[1;33m:\u001b[0m \u001b[0m_KT\u001b[0m\u001b[1;33m,\u001b[0m \u001b[0mdefault\u001b[0m\u001b[1;33m:\u001b[0m \u001b[0m_VT\u001b[0m\u001b[1;33m)\u001b[0m \u001b[1;33m->\u001b[0m \u001b[0m_VT\u001b[0m\u001b[1;33m:\u001b[0m\u001b[1;33m\u001b[0m\u001b[1;33m\u001b[0m\u001b[0m\n",
      "\u001b[1;31mInvalidSelectorException\u001b[0m: Message: invalid selector: An invalid or illegal selector was specified\n  (Session info: chrome=99.0.4844.74)\nStacktrace:\nBacktrace:\n\tOrdinal0 [0x00F19943+2595139]\n\tOrdinal0 [0x00EAC9F1+2148849]\n\tOrdinal0 [0x00DA4528+1066280]\n\tOrdinal0 [0x00DA6E04+1076740]\n\tOrdinal0 [0x00DA6CBE+1076414]\n\tOrdinal0 [0x00DA6F50+1077072]\n\tOrdinal0 [0x00DD0D1E+1248542]\n\tOrdinal0 [0x00DD11CB+1249739]\n\tOrdinal0 [0x00DFD84C+1431628]\n\tOrdinal0 [0x00DEBA34+1358388]\n\tOrdinal0 [0x00DFBAF2+1424114]\n\tOrdinal0 [0x00DEB806+1357830]\n\tOrdinal0 [0x00DC6086+1204358]\n\tOrdinal0 [0x00DC6F96+1208214]\n\tGetHandleVerifier [0x010BB232+1658114]\n\tGetHandleVerifier [0x0117312C+2411516]\n\tGetHandleVerifier [0x00FAF261+560433]\n\tGetHandleVerifier [0x00FAE366+556598]\n\tOrdinal0 [0x00EB286B+2173035]\n\tOrdinal0 [0x00EB75F8+2192888]\n\tOrdinal0 [0x00EB76E5+2193125]\n\tOrdinal0 [0x00EC11FC+2232828]\n\tBaseThreadInitThunk [0x7721FA29+25]\n\tRtlGetAppContainerNamedObjectPath [0x778B7A7E+286]\n\tRtlGetAppContainerNamedObjectPath [0x778B7A4E+238]\n"
     ]
    }
   ],
   "source": [
    "#rating_tags = driver.find_elements_by_css_selector(\"\")\n",
    "#rating_tags[0:2]"
   ]
  },
  {
   "cell_type": "code",
   "execution_count": 31,
   "id": "c1c9f560",
   "metadata": {},
   "outputs": [
    {
     "data": {
      "text/plain": [
       "[<selenium.webdriver.remote.webelement.WebElement (session=\"13e0cf181173a6f43a35bce8e3fe56ce\", element=\"15279cca-ab63-440f-ae7c-481452cd0b27\")>,\n",
       " <selenium.webdriver.remote.webelement.WebElement (session=\"13e0cf181173a6f43a35bce8e3fe56ce\", element=\"3fc9a07b-50e5-436b-9d56-47d0659792b0\")>]"
      ]
     },
     "execution_count": 31,
     "metadata": {},
     "output_type": "execute_result"
    }
   ],
   "source": [
    "stars = driver.find_elements_by_css_selector(\"[class=a-icon-alt]\")\n",
    "stars[0:2]"
   ]
  },
  {
   "cell_type": "code",
   "execution_count": 32,
   "id": "300f5c1c",
   "metadata": {},
   "outputs": [
    {
     "data": {
      "text/plain": [
       "['', '', '', '', '', '', '', '', '', '']"
      ]
     },
     "execution_count": 32,
     "metadata": {},
     "output_type": "execute_result"
    }
   ],
   "source": [
    "Rating = []\n",
    "for i in stars:\n",
    "    Rating.append(i.text)\n",
    "Rating[0:10]"
   ]
  },
  {
   "cell_type": "code",
   "execution_count": 21,
   "id": "32779a0d",
   "metadata": {},
   "outputs": [
    {
     "data": {
      "text/plain": [
       "[<selenium.webdriver.remote.webelement.WebElement (session=\"13e0cf181173a6f43a35bce8e3fe56ce\", element=\"fbe402fc-63d3-46b9-8272-310eed28f941\")>,\n",
       " <selenium.webdriver.remote.webelement.WebElement (session=\"13e0cf181173a6f43a35bce8e3fe56ce\", element=\"a6da6833-c639-4ae4-a7c9-fead189a1ebc\")>]"
      ]
     },
     "execution_count": 21,
     "metadata": {},
     "output_type": "execute_result"
    }
   ],
   "source": [
    "Price_tags = driver.find_elements_by_xpath('//span[@class=\"a-price-whole\"]')\n",
    "Price_tags[0:2]"
   ]
  },
  {
   "cell_type": "code",
   "execution_count": 22,
   "id": "d93f762b",
   "metadata": {},
   "outputs": [
    {
     "data": {
      "text/plain": [
       "['64,990',\n",
       " '41,990',\n",
       " '2,68,980',\n",
       " '1,43,990',\n",
       " '2,64,990',\n",
       " '1,54,879',\n",
       " '1,48,990',\n",
       " '37,990',\n",
       " '39,990',\n",
       " '2,32,000']"
      ]
     },
     "execution_count": 22,
     "metadata": {},
     "output_type": "execute_result"
    }
   ],
   "source": [
    "Product_price = []\n",
    "for i in Price_tags:\n",
    "    Product_price.append(i.text)\n",
    "Product_price[0:10]"
   ]
  },
  {
   "cell_type": "code",
   "execution_count": 23,
   "id": "848bdaa4",
   "metadata": {},
   "outputs": [
    {
     "data": {
      "text/plain": [
       "[<selenium.webdriver.remote.webelement.WebElement (session=\"13e0cf181173a6f43a35bce8e3fe56ce\", element=\"156e1a51-4a64-4fba-b940-072e9cc85046\")>,\n",
       " <selenium.webdriver.remote.webelement.WebElement (session=\"13e0cf181173a6f43a35bce8e3fe56ce\", element=\"4be2b26c-f449-468e-bc4c-f87166fb613c\")>]"
      ]
     },
     "execution_count": 23,
     "metadata": {},
     "output_type": "execute_result"
    }
   ],
   "source": [
    "#Intel Core i7\n",
    "title_tags = driver.find_elements_by_xpath('//span[@class=\"a-size-medium a-color-base a-text-normal\"]')\n",
    "title_tags[0:2]"
   ]
  },
  {
   "cell_type": "code",
   "execution_count": 24,
   "id": "c846619e",
   "metadata": {},
   "outputs": [
    {
     "data": {
      "text/plain": [
       "['LG Gram 16 Ultra-Light Intel Evo 11th Gen Core i7 16 inches Laptop (16 GB RAM, 512 GB SSD, Windows 10 Home, Iris Xe Graphics, Thunderbolt 4, USC -C x 2 (with Power), 1.19 kg, 16Z90P, Black)',\n",
       " 'LG Gram Intel Evo 11th Gen Core i7 17 inches Ultra-Light Laptop (16 GB RAM, 512 GB SSD, New Windows 11 Home Preload, Iris Xe Graphics, USC -C x 2 (with Power), 1.35 kg, 17Z90P-G.AH85A2, Black)',\n",
       " 'ASUS VivoBook 14 (2021), 14-inch (35.56 cms) FHD, Intel Core i7-1065G7 10th Gen, Thin and Light Laptop (16GB/512GB SSD/Integrated Graphics/Office 2021/Windows 11/Silver/1.6 Kg), X415JA-EK701WS',\n",
       " 'Mi Notebook Ultra 3.2K Resolution Display Intel Core i7-11370H 11th Gen 15.6-inch(39.62 cm) Thin and Light Laptop (16GB/512GB SSD/Iris Xe Graphic/Win 10/MS Office/Backlit KB/Fingerprint Sensor/1.7Kg)',\n",
       " 'ASUS TUF Gaming F15 (2021), 15.6\" (39.62 cms) FHD 144Hz, Intel Core i7-11600H 11th Gen, 4GB RTX 3050 Graphics, Gaming Laptop (16GB/512GB SSD/Windows 10/Office 2019/Gray/2.3 Kg), FX566HCB-HN299TS',\n",
       " 'LG Gram Intel Evo 11th Gen Core i7 17 inches Ultra-Light Laptop (16 GB RAM, 512 GB SSD, New Windows 11 Home Preload, Iris Xe Graphics, USC -C x 2 (with Power), 1.35 kg, 17Z90P-G.AH85A2, Black)',\n",
       " 'ASUS ZenBook 13 OLED (2021) Intel Core i7-1165G7 11th Gen 13.3\" (33.78 cms) FHD Thin and Light Laptop (16GB/512GB SSD/Windows 10/Office 2019/Intel Iris Xᵉ Graphics/Pine Grey/1.14 kg), UX325EA-KG722TS',\n",
       " 'LG Gram 14 Intel Evo 11th Gen Core i7 14 inches Ultralight Laptop (16 GB RAM, 512 GB SSD, Windows 10, Iris Xe Graphics Thunderbolt 4, USC -Cx2 (with Power), 0.999kg, 14Z90P, Black)',\n",
       " 'Lenovo ThinkBook Yoga 14s Intel Core i7 11th Gen 14\"(35.56cm) FHD IPS 300 nits 100% sRGB Dolby Vision 2-in-1 Touchscreen Laptop (16GB RAM/512GB SSD/Windows 10/MS Office/Active Pen/1.50 kg) 20WEA01EIH',\n",
       " 'HP Pavilion 11th Gen Intel Core i7 15.6 inches FHD Gaming Laptop (16GB RAM/512GB SSD/144Hz/4GB NVIDIA GeForce GTX 1650 Graphics/Windows 10 Home/MS Office/Shadow Black/2.28 Kg), 15-dk2075tx']"
      ]
     },
     "execution_count": 24,
     "metadata": {},
     "output_type": "execute_result"
    }
   ],
   "source": [
    "Title_Names = []\n",
    "for i in title_tags:\n",
    "    Title_Names.append(i.text)\n",
    "Title_Names[0:10]"
   ]
  },
  {
   "cell_type": "code",
   "execution_count": null,
   "id": "23158ade",
   "metadata": {},
   "outputs": [],
   "source": []
  },
  {
   "cell_type": "code",
   "execution_count": null,
   "id": "b589deab",
   "metadata": {},
   "outputs": [],
   "source": []
  },
  {
   "cell_type": "code",
   "execution_count": 25,
   "id": "928cbe9f",
   "metadata": {},
   "outputs": [
    {
     "data": {
      "text/plain": [
       "[<selenium.webdriver.remote.webelement.WebElement (session=\"13e0cf181173a6f43a35bce8e3fe56ce\", element=\"17221403-8248-4287-97c1-524ec2b98807\")>,\n",
       " <selenium.webdriver.remote.webelement.WebElement (session=\"13e0cf181173a6f43a35bce8e3fe56ce\", element=\"fc314c0b-f928-46d5-843a-a84efc1be428\")>]"
      ]
     },
     "execution_count": 25,
     "metadata": {},
     "output_type": "execute_result"
    }
   ],
   "source": [
    "Price_tags = driver.find_elements_by_xpath('//span[@class=\"a-price-whole\"]')\n",
    "Price_tags[0:2]"
   ]
  },
  {
   "cell_type": "code",
   "execution_count": 26,
   "id": "9ae716cf",
   "metadata": {},
   "outputs": [
    {
     "data": {
      "text/plain": [
       "['85,990',\n",
       " '96,999',\n",
       " '57,490',\n",
       " '77,499',\n",
       " '89,990',\n",
       " '96,999',\n",
       " '92,990',\n",
       " '88,990',\n",
       " '87,990',\n",
       " '87,990']"
      ]
     },
     "execution_count": 26,
     "metadata": {},
     "output_type": "execute_result"
    }
   ],
   "source": [
    "Product_price = []\n",
    "for i in Price_tags:\n",
    "    Product_price.append(i.text)\n",
    "Product_price[0:10]"
   ]
  },
  {
   "cell_type": "markdown",
   "id": "78b0522d",
   "metadata": {},
   "source": [
    "9. Python program to scrape data for first 10 job results for Data Scientist Designation in Noida location."
   ]
  },
  {
   "cell_type": "code",
   "execution_count": 23,
   "id": "180b3c89",
   "metadata": {},
   "outputs": [],
   "source": [
    "driver=webdriver.Chrome('chromedriver.exe')"
   ]
  },
  {
   "cell_type": "code",
   "execution_count": 24,
   "id": "06eab40a",
   "metadata": {},
   "outputs": [],
   "source": [
    "url='https://www.ambitionbox.com/'\n",
    "driver.get(url)"
   ]
  },
  {
   "cell_type": "code",
   "execution_count": 27,
   "id": "d45342f8",
   "metadata": {},
   "outputs": [
    {
     "data": {
      "text/plain": [
       "<selenium.webdriver.remote.webelement.WebElement (session=\"9011c605328e8b387707eba6bf2f7536\", element=\"dd713607-e8db-4231-aeae-5b3e02019e30\")>"
      ]
     },
     "execution_count": 27,
     "metadata": {},
     "output_type": "execute_result"
    }
   ],
   "source": [
    "search_bar = driver.find_element_by_class_name(\"tt-input\")\n",
    "search_bar"
   ]
  },
  {
   "cell_type": "code",
   "execution_count": 28,
   "id": "3d035f36",
   "metadata": {},
   "outputs": [],
   "source": [
    "search_bar.send_keys(\"Data Scientist\")"
   ]
  },
  {
   "cell_type": "code",
   "execution_count": 29,
   "id": "e1427f76",
   "metadata": {},
   "outputs": [],
   "source": [
    "search_icon=driver.find_element_by_class_name(\"ctas-btn-medium\")"
   ]
  },
  {
   "cell_type": "code",
   "execution_count": 30,
   "id": "507c3c85",
   "metadata": {},
   "outputs": [
    {
     "data": {
      "text/plain": [
       "<selenium.webdriver.remote.webelement.WebElement (session=\"9011c605328e8b387707eba6bf2f7536\", element=\"b0624a7d-f598-40c4-923f-af7a7c068dd9\")>"
      ]
     },
     "execution_count": 30,
     "metadata": {},
     "output_type": "execute_result"
    }
   ],
   "source": [
    "search_icon"
   ]
  },
  {
   "cell_type": "code",
   "execution_count": 31,
   "id": "d19c8674",
   "metadata": {},
   "outputs": [
    {
     "data": {
      "text/plain": [
       "<selenium.webdriver.remote.webelement.WebElement (session=\"9011c605328e8b387707eba6bf2f7536\", element=\"e0dc532f-c87e-4f7c-82a0-24022d7603b1\")>"
      ]
     },
     "execution_count": 31,
     "metadata": {},
     "output_type": "execute_result"
    }
   ],
   "source": [
    "search_locn = driver.find_element_by_class_name(\"searchbox\")\n",
    "search_locn"
   ]
  },
  {
   "cell_type": "code",
   "execution_count": 32,
   "id": "14855d66",
   "metadata": {},
   "outputs": [],
   "source": [
    "search_bar.send_keys(\"Noida\")"
   ]
  },
  {
   "cell_type": "code",
   "execution_count": 34,
   "id": "1fc4d4e6",
   "metadata": {},
   "outputs": [
    {
     "data": {
      "text/plain": [
       "[<selenium.webdriver.remote.webelement.WebElement (session=\"9011c605328e8b387707eba6bf2f7536\", element=\"9750f79c-3676-49db-98f2-95beafbdb292\")>,\n",
       " <selenium.webdriver.remote.webelement.WebElement (session=\"9011c605328e8b387707eba6bf2f7536\", element=\"90780d97-1bd5-4b9f-8e1d-e3d059330775\")>]"
      ]
     },
     "execution_count": 34,
     "metadata": {},
     "output_type": "execute_result"
    }
   ],
   "source": [
    "title_tags = driver.find_elements_by_xpath('//a[@class=\"title noclick\"]')\n",
    "title_tags[0:2]"
   ]
  },
  {
   "cell_type": "code",
   "execution_count": 35,
   "id": "edf21120",
   "metadata": {},
   "outputs": [
    {
     "data": {
      "text/plain": [
       "['Excellent Opportunity For Freshers For AI/ML, Data Scientist, BI, QA',\n",
       " \"HCL Hiring Data Scientist (Loc: Noida / Chennai / B'lore)\",\n",
       " 'Data Scientist',\n",
       " 'Data Scientist-II',\n",
       " 'HCL Tech Opening - Senior Data Scientist',\n",
       " 'Data Scientist',\n",
       " 'Urgent Requirement || Data Scientist || Noida',\n",
       " 'Data Scientist with NLP & Python',\n",
       " 'Data Scientist',\n",
       " 'Opportunity | Tavant India']"
      ]
     },
     "execution_count": 35,
     "metadata": {},
     "output_type": "execute_result"
    }
   ],
   "source": [
    "Title_Names = []\n",
    "for i in title_tags:\n",
    "    Title_Names.append(i.text)\n",
    "Title_Names[0:10]"
   ]
  },
  {
   "cell_type": "code",
   "execution_count": 38,
   "id": "4cebcfd3",
   "metadata": {},
   "outputs": [
    {
     "data": {
      "text/plain": [
       "[<selenium.webdriver.remote.webelement.WebElement (session=\"9011c605328e8b387707eba6bf2f7536\", element=\"e38aff3b-40d5-469d-ae61-b99cd010f183\")>,\n",
       " <selenium.webdriver.remote.webelement.WebElement (session=\"9011c605328e8b387707eba6bf2f7536\", element=\"3e195a3c-a853-4c10-9034-958e5c31ccba\")>]"
      ]
     },
     "execution_count": 38,
     "metadata": {},
     "output_type": "execute_result"
    }
   ],
   "source": [
    "company_tags = driver.find_elements_by_xpath('//p[@class=\"company body-medium\"]')\n",
    "company_tags[0:2]"
   ]
  },
  {
   "cell_type": "code",
   "execution_count": 39,
   "id": "6cdfe301",
   "metadata": {},
   "outputs": [
    {
     "data": {
      "text/plain": [
       "['NTT DATA GLOBAL DELIVERY SERVICES PRIVATE LIMITED',\n",
       " 'HCL Technologies Limited',\n",
       " 'WSP CONSULTANTS INDIA PRIVATE LIMITED',\n",
       " 'Microsoft India (R and D) Pvt Ltd',\n",
       " 'HCL Technologies Ltd',\n",
       " 'Jubilant Foodworks Limited',\n",
       " 'HCL Technologies',\n",
       " 'RATEGAIN TRAVEL TECHNOLOGIES LIMITED',\n",
       " 'Hanu Software Solutions Pvt Ltd',\n",
       " 'Tavant Technologies India Pvt. Ltd.']"
      ]
     },
     "execution_count": 39,
     "metadata": {},
     "output_type": "execute_result"
    }
   ],
   "source": [
    "Company_Names = []\n",
    "for i in company_tags:\n",
    "    Company_Names.append(i.text)\n",
    "Company_Names[0:10]"
   ]
  },
  {
   "cell_type": "code",
   "execution_count": 43,
   "id": "2697c4fc",
   "metadata": {},
   "outputs": [
    {
     "data": {
      "text/plain": [
       "[<selenium.webdriver.remote.webelement.WebElement (session=\"9011c605328e8b387707eba6bf2f7536\", element=\"f70d448f-a614-4303-918a-6995416e285b\")>,\n",
       " <selenium.webdriver.remote.webelement.WebElement (session=\"9011c605328e8b387707eba6bf2f7536\", element=\"56c93720-9d9c-43bb-bbd6-a15b9b536b92\")>]"
      ]
     },
     "execution_count": 43,
     "metadata": {},
     "output_type": "execute_result"
    }
   ],
   "source": [
    "locn_tags = driver.find_elements_by_xpath('//div[@class=\"entity loc\"]')\n",
    "locn_tags[0:2]"
   ]
  },
  {
   "cell_type": "code",
   "execution_count": 44,
   "id": "b98b5e8c",
   "metadata": {},
   "outputs": [
    {
     "data": {
      "text/plain": [
       "['Chennai, Pune, Delhi NCR + 5 more',\n",
       " 'Chennai, Pune, Delhi NCR +5 more',\n",
       " 'Chennai, Bengaluru/Bangalore, Noida',\n",
       " 'Bengaluru/Bangalore, Noida',\n",
       " 'Noida',\n",
       " 'Chennai, Pune, Bengaluru/Bangalore +3 more',\n",
       " 'Noida',\n",
       " 'Delhi NCR, Noida',\n",
       " 'Noida',\n",
       " 'Greater Noida, Noida']"
      ]
     },
     "execution_count": 44,
     "metadata": {},
     "output_type": "execute_result"
    }
   ],
   "source": [
    "Location = []\n",
    "for i in locn_tags:\n",
    "    Location.append(i.text)\n",
    "Location[0:10]"
   ]
  },
  {
   "cell_type": "code",
   "execution_count": 55,
   "id": "d2be84b0",
   "metadata": {},
   "outputs": [
    {
     "data": {
      "text/html": [
       "<div>\n",
       "<style scoped>\n",
       "    .dataframe tbody tr th:only-of-type {\n",
       "        vertical-align: middle;\n",
       "    }\n",
       "\n",
       "    .dataframe tbody tr th {\n",
       "        vertical-align: top;\n",
       "    }\n",
       "\n",
       "    .dataframe thead th {\n",
       "        text-align: right;\n",
       "    }\n",
       "</style>\n",
       "<table border=\"1\" class=\"dataframe\">\n",
       "  <thead>\n",
       "    <tr style=\"text-align: right;\">\n",
       "      <th></th>\n",
       "      <th>Job Title</th>\n",
       "      <th>Location</th>\n",
       "      <th>Company Name</th>\n",
       "    </tr>\n",
       "  </thead>\n",
       "  <tbody>\n",
       "    <tr>\n",
       "      <th>0</th>\n",
       "      <td>Excellent Opportunity For Freshers For AI/ML, ...</td>\n",
       "      <td>Chennai, Pune, Delhi NCR + 5 more</td>\n",
       "      <td>NTT DATA GLOBAL DELIVERY SERVICES PRIVATE LIMITED</td>\n",
       "    </tr>\n",
       "    <tr>\n",
       "      <th>1</th>\n",
       "      <td>HCL Hiring Data Scientist (Loc: Noida / Chenna...</td>\n",
       "      <td>Chennai, Pune, Delhi NCR +5 more</td>\n",
       "      <td>HCL Technologies Limited</td>\n",
       "    </tr>\n",
       "    <tr>\n",
       "      <th>2</th>\n",
       "      <td>Data Scientist</td>\n",
       "      <td>Chennai, Bengaluru/Bangalore, Noida</td>\n",
       "      <td>WSP CONSULTANTS INDIA PRIVATE LIMITED</td>\n",
       "    </tr>\n",
       "    <tr>\n",
       "      <th>3</th>\n",
       "      <td>Data Scientist-II</td>\n",
       "      <td>Bengaluru/Bangalore, Noida</td>\n",
       "      <td>Microsoft India (R and D) Pvt Ltd</td>\n",
       "    </tr>\n",
       "    <tr>\n",
       "      <th>4</th>\n",
       "      <td>HCL Tech Opening - Senior Data Scientist</td>\n",
       "      <td>Noida</td>\n",
       "      <td>HCL Technologies Ltd</td>\n",
       "    </tr>\n",
       "    <tr>\n",
       "      <th>5</th>\n",
       "      <td>Data Scientist</td>\n",
       "      <td>Chennai, Pune, Bengaluru/Bangalore +3 more</td>\n",
       "      <td>Jubilant Foodworks Limited</td>\n",
       "    </tr>\n",
       "    <tr>\n",
       "      <th>6</th>\n",
       "      <td>Urgent Requirement || Data Scientist || Noida</td>\n",
       "      <td>Noida</td>\n",
       "      <td>HCL Technologies</td>\n",
       "    </tr>\n",
       "    <tr>\n",
       "      <th>7</th>\n",
       "      <td>Data Scientist with NLP &amp; Python</td>\n",
       "      <td>Delhi NCR, Noida</td>\n",
       "      <td>RATEGAIN TRAVEL TECHNOLOGIES LIMITED</td>\n",
       "    </tr>\n",
       "    <tr>\n",
       "      <th>8</th>\n",
       "      <td>Data Scientist</td>\n",
       "      <td>Noida</td>\n",
       "      <td>Hanu Software Solutions Pvt Ltd</td>\n",
       "    </tr>\n",
       "    <tr>\n",
       "      <th>9</th>\n",
       "      <td>Opportunity | Tavant India</td>\n",
       "      <td>Greater Noida, Noida</td>\n",
       "      <td>Tavant Technologies India Pvt. Ltd.</td>\n",
       "    </tr>\n",
       "  </tbody>\n",
       "</table>\n",
       "</div>"
      ],
      "text/plain": [
       "                                           Job Title  \\\n",
       "0  Excellent Opportunity For Freshers For AI/ML, ...   \n",
       "1  HCL Hiring Data Scientist (Loc: Noida / Chenna...   \n",
       "2                                     Data Scientist   \n",
       "3                                  Data Scientist-II   \n",
       "4           HCL Tech Opening - Senior Data Scientist   \n",
       "5                                     Data Scientist   \n",
       "6      Urgent Requirement || Data Scientist || Noida   \n",
       "7                   Data Scientist with NLP & Python   \n",
       "8                                     Data Scientist   \n",
       "9                         Opportunity | Tavant India   \n",
       "\n",
       "                                     Location  \\\n",
       "0           Chennai, Pune, Delhi NCR + 5 more   \n",
       "1            Chennai, Pune, Delhi NCR +5 more   \n",
       "2         Chennai, Bengaluru/Bangalore, Noida   \n",
       "3                  Bengaluru/Bangalore, Noida   \n",
       "4                                       Noida   \n",
       "5  Chennai, Pune, Bengaluru/Bangalore +3 more   \n",
       "6                                       Noida   \n",
       "7                            Delhi NCR, Noida   \n",
       "8                                       Noida   \n",
       "9                        Greater Noida, Noida   \n",
       "\n",
       "                                        Company Name  \n",
       "0  NTT DATA GLOBAL DELIVERY SERVICES PRIVATE LIMITED  \n",
       "1                           HCL Technologies Limited  \n",
       "2              WSP CONSULTANTS INDIA PRIVATE LIMITED  \n",
       "3                  Microsoft India (R and D) Pvt Ltd  \n",
       "4                               HCL Technologies Ltd  \n",
       "5                         Jubilant Foodworks Limited  \n",
       "6                                   HCL Technologies  \n",
       "7               RATEGAIN TRAVEL TECHNOLOGIES LIMITED  \n",
       "8                    Hanu Software Solutions Pvt Ltd  \n",
       "9                Tavant Technologies India Pvt. Ltd.  "
      ]
     },
     "execution_count": 55,
     "metadata": {},
     "output_type": "execute_result"
    }
   ],
   "source": [
    "jobs=pd.DataFrame()\n",
    "jobs['Job Title']=Title_Names[:10]\n",
    "jobs['Location']=Location[:10]\n",
    "jobs['Company Name']=Company_Names[:10]\n",
    "jobs"
   ]
  },
  {
   "cell_type": "markdown",
   "id": "c920c588",
   "metadata": {},
   "source": [
    "10. Python program to scrape the salary data for Data Scientist designation."
   ]
  },
  {
   "cell_type": "code",
   "execution_count": 3,
   "id": "8778db00",
   "metadata": {},
   "outputs": [],
   "source": [
    "driver=webdriver.Chrome('chromedriver.exe')"
   ]
  },
  {
   "cell_type": "code",
   "execution_count": 4,
   "id": "72adfdd9",
   "metadata": {},
   "outputs": [],
   "source": [
    "url='https://www.ambitionbox.com/'\n",
    "driver.get(url)"
   ]
  },
  {
   "cell_type": "code",
   "execution_count": 10,
   "id": "bf3f309f",
   "metadata": {},
   "outputs": [
    {
     "data": {
      "text/plain": [
       "<selenium.webdriver.remote.webelement.WebElement (session=\"e65236a40ff14f2e5810b575eef4a210\", element=\"254b272b-a457-4318-860f-195c534627f9\")>"
      ]
     },
     "execution_count": 10,
     "metadata": {},
     "output_type": "execute_result"
    }
   ],
   "source": [
    "#search_bar=driver.find_element_by_xpath('/html/body/div/div/div/div[2]/div/div/div/div[1]/span/input')\n",
    "#search_bar"
   ]
  },
  {
   "cell_type": "code",
   "execution_count": 11,
   "id": "f54c1092",
   "metadata": {},
   "outputs": [],
   "source": [
    "#search_bar.send_keys(\"Data Scientist\")"
   ]
  },
  {
   "cell_type": "code",
   "execution_count": 12,
   "id": "ac90b23a",
   "metadata": {},
   "outputs": [
    {
     "data": {
      "text/plain": [
       "<selenium.webdriver.remote.webelement.WebElement (session=\"e65236a40ff14f2e5810b575eef4a210\", element=\"c42ce9fa-046e-4af1-b503-84e3ed775488\")>"
      ]
     },
     "execution_count": 12,
     "metadata": {},
     "output_type": "execute_result"
    }
   ],
   "source": [
    "#search_icon=driver.find_element_by_class_name(\"ctas-btn-medium\")\n",
    "#search_icon"
   ]
  },
  {
   "cell_type": "code",
   "execution_count": 13,
   "id": "ab4b5840",
   "metadata": {},
   "outputs": [],
   "source": [
    "#search_icon.click()"
   ]
  },
  {
   "cell_type": "code",
   "execution_count": 39,
   "id": "ef16e71b",
   "metadata": {},
   "outputs": [
    {
     "data": {
      "text/plain": [
       "[<selenium.webdriver.remote.webelement.WebElement (session=\"cfeb30a9b34567694d8556ae3a388f8b\", element=\"7e487ff3-745d-45a0-b13e-218e9393518f\")>,\n",
       " <selenium.webdriver.remote.webelement.WebElement (session=\"cfeb30a9b34567694d8556ae3a388f8b\", element=\"cc896089-2083-49a5-ae14-99fb041ce750\")>]"
      ]
     },
     "execution_count": 39,
     "metadata": {},
     "output_type": "execute_result"
    }
   ],
   "source": [
    "company_tags = driver.find_elements_by_xpath('//div[@class=\"name\"]')\n",
    "company_tags[0:2]"
   ]
  },
  {
   "cell_type": "code",
   "execution_count": 43,
   "id": "0a3559b8",
   "metadata": {},
   "outputs": [
    {
     "data": {
      "text/plain": [
       "['Ab Inbev,based on 28 salaries',\n",
       " 'ZS,based on 15 salaries',\n",
       " 'Optum,based on 25 salaries',\n",
       " 'Fractal Analytics,based on 77 salaries',\n",
       " 'Tiger Analytics,based on 33 salaries',\n",
       " 'UnitedHealth,based on 52 salaries',\n",
       " 'Verizon,based on 14 salaries',\n",
       " 'Ganit Business Solutions,based on 13 salaries',\n",
       " 'Ericsson,based on 43 salaries',\n",
       " 'Deloitte,based on 57 salaries']"
      ]
     },
     "execution_count": 43,
     "metadata": {},
     "output_type": "execute_result"
    }
   ],
   "source": [
    "Company_Names = []\n",
    "for i in company_tags:\n",
    "    Company_Names.append(i.text.replace('\\n',','))\n",
    "Company_Names[0:10]"
   ]
  },
  {
   "cell_type": "code",
   "execution_count": 45,
   "id": "fabbce21",
   "metadata": {},
   "outputs": [
    {
     "data": {
      "text/plain": [
       "[<selenium.webdriver.remote.webelement.WebElement (session=\"cfeb30a9b34567694d8556ae3a388f8b\", element=\"9d19a461-2bfe-48f5-9798-8b32d61fd541\")>,\n",
       " <selenium.webdriver.remote.webelement.WebElement (session=\"cfeb30a9b34567694d8556ae3a388f8b\", element=\"dbfb3280-cfda-4841-ba40-eb734e53fd83\")>]"
      ]
     },
     "execution_count": 45,
     "metadata": {},
     "output_type": "execute_result"
    }
   ],
   "source": [
    "AvgSal_tags=driver.find_elements_by_xpath('//p[@class=\"averageCtc\"]')\n",
    "AvgSal_tags[0:2]"
   ]
  },
  {
   "cell_type": "code",
   "execution_count": 47,
   "id": "fb0a71b9",
   "metadata": {},
   "outputs": [
    {
     "data": {
      "text/plain": [
       "['₹ 20.3L',\n",
       " '₹ 15.3L',\n",
       " '₹ 15.1L',\n",
       " '₹ 15.1L',\n",
       " '₹ 14.4L',\n",
       " '₹ 13.9L',\n",
       " '₹ 12.7L',\n",
       " '₹ 12.4L',\n",
       " '₹ 11.9L',\n",
       " '₹ 11.7L']"
      ]
     },
     "execution_count": 47,
     "metadata": {},
     "output_type": "execute_result"
    }
   ],
   "source": [
    "Average_Salary = []\n",
    "for i in AvgSal_tags:\n",
    "    Average_Salary.append(i.text)\n",
    "Average_Salary[0:10]"
   ]
  },
  {
   "cell_type": "code",
   "execution_count": 48,
   "id": "97253416",
   "metadata": {},
   "outputs": [
    {
     "data": {
      "text/plain": [
       "[<selenium.webdriver.remote.webelement.WebElement (session=\"cfeb30a9b34567694d8556ae3a388f8b\", element=\"6d9216f4-d4ed-424e-8618-0d9ce69e428c\")>,\n",
       " <selenium.webdriver.remote.webelement.WebElement (session=\"cfeb30a9b34567694d8556ae3a388f8b\", element=\"608fffbf-90c4-44c2-a9ee-f2307f2e5e7d\")>]"
      ]
     },
     "execution_count": 48,
     "metadata": {},
     "output_type": "execute_result"
    }
   ],
   "source": [
    "MinSal_tags=driver.find_elements_by_xpath('//div[@class=\"value body-medium\"]')\n",
    "MinSal_tags[0:2]"
   ]
  },
  {
   "cell_type": "code",
   "execution_count": 49,
   "id": "0bb9ac87",
   "metadata": {},
   "outputs": [
    {
     "data": {
      "text/plain": [
       "['₹ 15.0L',\n",
       " '₹ 25.5L',\n",
       " '₹ 9.5L',\n",
       " '₹ 20.0L',\n",
       " '₹ 11.0L',\n",
       " '₹ 21.3L',\n",
       " '₹ 9.5L',\n",
       " '₹ 22.0L',\n",
       " '₹ 8.3L',\n",
       " '₹ 20.0L']"
      ]
     },
     "execution_count": 49,
     "metadata": {},
     "output_type": "execute_result"
    }
   ],
   "source": [
    "Minimum_Salary = []\n",
    "for i in MinSal_tags:\n",
    "    Minimum_Salary.append(i.text)\n",
    "Minimum_Salary[0:10]"
   ]
  },
  {
   "cell_type": "code",
   "execution_count": 50,
   "id": "070c5b51",
   "metadata": {},
   "outputs": [
    {
     "data": {
      "text/plain": [
       "[<selenium.webdriver.remote.webelement.WebElement (session=\"cfeb30a9b34567694d8556ae3a388f8b\", element=\"6d9216f4-d4ed-424e-8618-0d9ce69e428c\")>,\n",
       " <selenium.webdriver.remote.webelement.WebElement (session=\"cfeb30a9b34567694d8556ae3a388f8b\", element=\"608fffbf-90c4-44c2-a9ee-f2307f2e5e7d\")>]"
      ]
     },
     "execution_count": 50,
     "metadata": {},
     "output_type": "execute_result"
    }
   ],
   "source": [
    "MaxSal_tags=driver.find_elements_by_xpath('//div[@class=\"value body-medium\"]')\n",
    "MaxSal_tags[0:2]"
   ]
  },
  {
   "cell_type": "code",
   "execution_count": 51,
   "id": "cada2e96",
   "metadata": {},
   "outputs": [
    {
     "data": {
      "text/plain": [
       "['₹ 15.0L',\n",
       " '₹ 25.5L',\n",
       " '₹ 9.5L',\n",
       " '₹ 20.0L',\n",
       " '₹ 11.0L',\n",
       " '₹ 21.3L',\n",
       " '₹ 9.5L',\n",
       " '₹ 22.0L',\n",
       " '₹ 8.3L',\n",
       " '₹ 20.0L']"
      ]
     },
     "execution_count": 51,
     "metadata": {},
     "output_type": "execute_result"
    }
   ],
   "source": [
    "Maximum_Salary = []\n",
    "for i in MaxSal_tags:\n",
    "    Maximum_Salary.append(i.text)\n",
    "Maximum_Salary[0:10]"
   ]
  },
  {
   "cell_type": "code",
   "execution_count": null,
   "id": "fccfedce",
   "metadata": {},
   "outputs": [],
   "source": []
  }
 ],
 "metadata": {
  "kernelspec": {
   "display_name": "Python 3",
   "language": "python",
   "name": "python3"
  },
  "language_info": {
   "codemirror_mode": {
    "name": "ipython",
    "version": 3
   },
   "file_extension": ".py",
   "mimetype": "text/x-python",
   "name": "python",
   "nbconvert_exporter": "python",
   "pygments_lexer": "ipython3",
   "version": "3.8.8"
  }
 },
 "nbformat": 4,
 "nbformat_minor": 5
}
